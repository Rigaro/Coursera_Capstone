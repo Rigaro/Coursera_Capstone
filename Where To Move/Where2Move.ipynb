{
 "cells": [
  {
   "cell_type": "markdown",
   "metadata": {},
   "source": [
    "# Coursera Applied Data Science Capstone\n",
    "This notebook contains my work for the applied data sience capstone course from IBM/Coursera."
   ]
  },
  {
   "cell_type": "markdown",
   "metadata": {},
   "source": [
    "# Introduction"
   ]
  },
  {
   "cell_type": "markdown",
   "metadata": {},
   "source": [
    "One of the most difficult things about moving to a new city on the other side of the world is deciding where to live. While you can look-up online the characteristics of the most famous suburbs many others that could be hidden gems are overlooked. So, what if you could use the place you are currently living in as a reference to look for recommendations of where to live on the other side of the world. This recommendation could include suburb characteristics such as the types of businesses and facilities around it and some statistical information on the rent prices. Thus, narrowing down your search for the perfect place to live on the other side of the world!\n",
    "This service is aimed at the people of our globalised world, who are looking to move to a new city within their country or internationally. For this project I'll use myself as an example, back in in the day I move from Guadalajara, MX to Melbourne, AU. So I'll be using the place I used to live in Mexico to rank suburbs in Melbourne that could be suited to me."
   ]
  },
  {
   "cell_type": "markdown",
   "metadata": {},
   "source": [
    "# Data"
   ]
  },
  {
   "cell_type": "markdown",
   "metadata": {},
   "source": [
    "This is the data I plan to use for my solution:\n",
    "## Venue data for a specific suburb in Guadalajara, MX.  \n",
    "The location (lat, lon) for the specific suburb will need to be determined for the Foursquare queries, this can be easily obtained through a Google search.  \n",
    "This location data will be used to obtain venue information using the Foursquare API. The focus will be in obtaining the top 5 venue categories by frequency in that area.  \n",
    "## Rent price data for all suburbs in Guadalajara, MX.  \n",
    "This is probably the most difficult to obtain as Mexico is not great with data gathering. The objective with this data is to obtain the percentile the specific suburb is in w.r.t. rent prices. This is in order to have a better price comparison between the two cities as they may be quite different in terms of cost of living. This is with the assumption that the person is (at least) looking at maintaining their current living conditions.  \n",
    "Thus, the median rental price for housing properties in all the suburbs of Guadalajara, MX are needed.\n",
    "## Venue data for all Melbourne, AU suburbs.\n",
    "Location data for all the Melbourne suburbs is needed for the Foursquare venue queries. This can be easily obtained from the Australian government's data access website: https://data.gov.au/dataset/ds-dga-af33dd8c-0534-4e18-9245-fc64440f742e/details  \n",
    "Similarly to the venue information discussed before, the top 5 venue categories will be required for all Melbourne suburbs. The venue data will be used in the comparison between the two cities (by suburb).\n",
    "## Rent price data for all suburbs in Melbourne, AU.  \n",
    "Median rental price data for all the Melbourne suburbs can be obtained from the Victorian government's website: https://www.dhhs.vic.gov.au/publications/rental-report.  \n",
    "This data will be used to determine each suburb's rent percentile, which will then be used as an additional feature for suburb comparison."
   ]
  },
  {
   "cell_type": "markdown",
   "metadata": {},
   "source": [
    "#### Imports\n",
    "All the stuff needed for the project."
   ]
  },
  {
   "cell_type": "code",
   "execution_count": 1,
   "metadata": {},
   "outputs": [],
   "source": [
    "import pandas as pd # library for data analsysis\n",
    "import numpy as np # library to handle data in a vectorized manner\n",
    "import folium # map rendering library\n",
    "from geopy.geocoders import Nominatim # convert an address into latitude and longitude values\n",
    "import requests\n",
    "import geocoder # import geocoder\n",
    "from sklearn.cluster import KMeans # import k-means from clustering stage\n",
    "from sklearn.cluster import DBSCAN \n",
    "from sklearn.preprocessing import StandardScaler"
   ]
  },
  {
   "cell_type": "markdown",
   "metadata": {},
   "source": [
    "# Source suburb data"
   ]
  },
  {
   "cell_type": "markdown",
   "metadata": {},
   "source": [
    "## Geographical location"
   ]
  },
  {
   "cell_type": "markdown",
   "metadata": {},
   "source": [
    "Let's use geolocator to get the geographical coordinates of the source suburb of interest."
   ]
  },
  {
   "cell_type": "code",
   "execution_count": 2,
   "metadata": {},
   "outputs": [
    {
     "name": "stdout",
     "output_type": "stream",
     "text": [
      "The geograpical coordinates of PROVIDENCIA are 20.6973972, -103.3786781.\n"
     ]
    }
   ],
   "source": [
    "source_suburb = 'providencia'\n",
    "source_city = 'guadalajara, mexico'\n",
    "address = source_suburb + ', ' + source_city\n",
    "\n",
    "geolocator = Nominatim(user_agent=\"to_explorer\", timeout=5)\n",
    "location = geolocator.geocode(address)\n",
    "latitude = location.latitude\n",
    "longitude = location.longitude\n",
    "source_loc = [latitude, longitude]\n",
    "print('The geograpical coordinates of {} are {}, {}.'.format(source_suburb.upper(), latitude, longitude))"
   ]
  },
  {
   "cell_type": "markdown",
   "metadata": {},
   "source": [
    "Let's show it in the map"
   ]
  },
  {
   "cell_type": "code",
   "execution_count": 3,
   "metadata": {},
   "outputs": [
    {
     "data": {
      "text/html": [
       "<div style=\"width:100%;\"><div style=\"position:relative;width:100%;height:0;padding-bottom:60%;\"><iframe src=\"about:blank\" style=\"position:absolute;width:100%;height:100%;left:0;top:0;border:none !important;\" data-html=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 onload=\"this.contentDocument.open();this.contentDocument.write(atob(this.getAttribute('data-html')));this.contentDocument.close();\" allowfullscreen webkitallowfullscreen mozallowfullscreen></iframe></div></div>"
      ],
      "text/plain": [
       "<folium.folium.Map at 0x1f0e73a51c8>"
      ]
     },
     "execution_count": 3,
     "metadata": {},
     "output_type": "execute_result"
    }
   ],
   "source": [
    "# create map of New York using latitude and longitude values\n",
    "source_map = folium.Map(location=source_loc, zoom_start=16)\n",
    "source_map"
   ]
  },
  {
   "cell_type": "markdown",
   "metadata": {},
   "source": [
    "That looks about right!"
   ]
  },
  {
   "cell_type": "markdown",
   "metadata": {},
   "source": [
    "## Rent price data"
   ]
  },
  {
   "cell_type": "markdown",
   "metadata": {},
   "source": [
    "After a good time searching, I found a database containing rental information for the whole city of Guadalajara at the following link:\n",
    "https://iieg.gob.mx/ns/?page_id=11967  \n",
    "I've downloaded the spreadsheet and cleaned it up so I can easily import it, let's check it out."
   ]
  },
  {
   "cell_type": "code",
   "execution_count": 4,
   "metadata": {},
   "outputs": [
    {
     "data": {
      "text/html": [
       "<div>\n",
       "<style scoped>\n",
       "    .dataframe tbody tr th:only-of-type {\n",
       "        vertical-align: middle;\n",
       "    }\n",
       "\n",
       "    .dataframe tbody tr th {\n",
       "        vertical-align: top;\n",
       "    }\n",
       "\n",
       "    .dataframe thead th {\n",
       "        text-align: right;\n",
       "    }\n",
       "</style>\n",
       "<table border=\"1\" class=\"dataframe\">\n",
       "  <thead>\n",
       "    <tr style=\"text-align: right;\">\n",
       "      <th></th>\n",
       "      <th>Type</th>\n",
       "      <th>Rent</th>\n",
       "      <th>City</th>\n",
       "      <th>Suburb</th>\n",
       "    </tr>\n",
       "  </thead>\n",
       "  <tbody>\n",
       "    <tr>\n",
       "      <th>0</th>\n",
       "      <td>Departamento</td>\n",
       "      <td>7000.0</td>\n",
       "      <td>Guadalajara</td>\n",
       "      <td>LAS TORRES</td>\n",
       "    </tr>\n",
       "    <tr>\n",
       "      <th>1</th>\n",
       "      <td>Casa</td>\n",
       "      <td>15000.0</td>\n",
       "      <td>Tlajomulco</td>\n",
       "      <td>BOSQUE REAL DE SANTA ANITA</td>\n",
       "    </tr>\n",
       "    <tr>\n",
       "      <th>2</th>\n",
       "      <td>Casa</td>\n",
       "      <td>15000.0</td>\n",
       "      <td>Tlajomulco</td>\n",
       "      <td>BOSQUE REAL DE SANTA ANITA</td>\n",
       "    </tr>\n",
       "    <tr>\n",
       "      <th>3</th>\n",
       "      <td>Departamento</td>\n",
       "      <td>16500.0</td>\n",
       "      <td>Tlajomulco</td>\n",
       "      <td>LA RIOJA</td>\n",
       "    </tr>\n",
       "    <tr>\n",
       "      <th>4</th>\n",
       "      <td>Departamento</td>\n",
       "      <td>17500.0</td>\n",
       "      <td>Guadalajara</td>\n",
       "      <td>JARDINES DEL BOSQUE</td>\n",
       "    </tr>\n",
       "  </tbody>\n",
       "</table>\n",
       "</div>"
      ],
      "text/plain": [
       "           Type     Rent           City                        Suburb\n",
       "0  Departamento   7000.0   Guadalajara                    LAS TORRES \n",
       "1          Casa  15000.0    Tlajomulco    BOSQUE REAL DE SANTA ANITA \n",
       "2          Casa  15000.0    Tlajomulco    BOSQUE REAL DE SANTA ANITA \n",
       "3  Departamento  16500.0    Tlajomulco                      LA RIOJA \n",
       "4  Departamento  17500.0   Guadalajara           JARDINES DEL BOSQUE "
      ]
     },
     "execution_count": 4,
     "metadata": {},
     "output_type": "execute_result"
    }
   ],
   "source": [
    "source_rent_df = pd.read_csv('Data/Clean/Guadalajara_Rent_Data.csv')\n",
    "source_rent_df.head()"
   ]
  },
  {
   "cell_type": "markdown",
   "metadata": {},
   "source": [
    "Alright, so we are interested in suburb and rent prices. Now, this dataset contains multiple entries per suburb as it reflects the current market. Let's first start by only having suburb and rent in the dataframe and changing the suburb names to uppercase."
   ]
  },
  {
   "cell_type": "code",
   "execution_count": 5,
   "metadata": {},
   "outputs": [
    {
     "data": {
      "text/html": [
       "<div>\n",
       "<style scoped>\n",
       "    .dataframe tbody tr th:only-of-type {\n",
       "        vertical-align: middle;\n",
       "    }\n",
       "\n",
       "    .dataframe tbody tr th {\n",
       "        vertical-align: top;\n",
       "    }\n",
       "\n",
       "    .dataframe thead th {\n",
       "        text-align: right;\n",
       "    }\n",
       "</style>\n",
       "<table border=\"1\" class=\"dataframe\">\n",
       "  <thead>\n",
       "    <tr style=\"text-align: right;\">\n",
       "      <th></th>\n",
       "      <th>Suburb</th>\n",
       "      <th>Rent</th>\n",
       "    </tr>\n",
       "  </thead>\n",
       "  <tbody>\n",
       "    <tr>\n",
       "      <th>0</th>\n",
       "      <td>LAS TORRES</td>\n",
       "      <td>7000.0</td>\n",
       "    </tr>\n",
       "    <tr>\n",
       "      <th>1</th>\n",
       "      <td>BOSQUE REAL DE SANTA ANITA</td>\n",
       "      <td>15000.0</td>\n",
       "    </tr>\n",
       "    <tr>\n",
       "      <th>2</th>\n",
       "      <td>BOSQUE REAL DE SANTA ANITA</td>\n",
       "      <td>15000.0</td>\n",
       "    </tr>\n",
       "    <tr>\n",
       "      <th>3</th>\n",
       "      <td>LA RIOJA</td>\n",
       "      <td>16500.0</td>\n",
       "    </tr>\n",
       "    <tr>\n",
       "      <th>4</th>\n",
       "      <td>JARDINES DEL BOSQUE</td>\n",
       "      <td>17500.0</td>\n",
       "    </tr>\n",
       "  </tbody>\n",
       "</table>\n",
       "</div>"
      ],
      "text/plain": [
       "                         Suburb     Rent\n",
       "0                   LAS TORRES    7000.0\n",
       "1   BOSQUE REAL DE SANTA ANITA   15000.0\n",
       "2   BOSQUE REAL DE SANTA ANITA   15000.0\n",
       "3                     LA RIOJA   16500.0\n",
       "4          JARDINES DEL BOSQUE   17500.0"
      ]
     },
     "execution_count": 5,
     "metadata": {},
     "output_type": "execute_result"
    }
   ],
   "source": [
    "source_rent_df = source_rent_df[['Suburb', 'Rent']] # Keep only Suburb and Rent\n",
    "source_rent_df['Suburb'] = source_rent_df['Suburb'].str.upper() # Lower case\n",
    "source_rent_df.head()"
   ]
  },
  {
   "cell_type": "markdown",
   "metadata": {},
   "source": [
    "Now let's group by suburn and calculate the mean rent price."
   ]
  },
  {
   "cell_type": "code",
   "execution_count": 6,
   "metadata": {},
   "outputs": [
    {
     "data": {
      "text/html": [
       "<div>\n",
       "<style scoped>\n",
       "    .dataframe tbody tr th:only-of-type {\n",
       "        vertical-align: middle;\n",
       "    }\n",
       "\n",
       "    .dataframe tbody tr th {\n",
       "        vertical-align: top;\n",
       "    }\n",
       "\n",
       "    .dataframe thead th {\n",
       "        text-align: right;\n",
       "    }\n",
       "</style>\n",
       "<table border=\"1\" class=\"dataframe\">\n",
       "  <thead>\n",
       "    <tr style=\"text-align: right;\">\n",
       "      <th></th>\n",
       "      <th>Suburb</th>\n",
       "      <th>Rent</th>\n",
       "    </tr>\n",
       "  </thead>\n",
       "  <tbody>\n",
       "    <tr>\n",
       "      <th>0</th>\n",
       "      <td>AGRARIA</td>\n",
       "      <td>13000.000000</td>\n",
       "    </tr>\n",
       "    <tr>\n",
       "      <th>1</th>\n",
       "      <td>ALBATERRA</td>\n",
       "      <td>7250.000000</td>\n",
       "    </tr>\n",
       "    <tr>\n",
       "      <th>2</th>\n",
       "      <td>ALTAMIRA</td>\n",
       "      <td>23250.000000</td>\n",
       "    </tr>\n",
       "    <tr>\n",
       "      <th>3</th>\n",
       "      <td>ALTEA</td>\n",
       "      <td>7000.000000</td>\n",
       "    </tr>\n",
       "    <tr>\n",
       "      <th>4</th>\n",
       "      <td>AMERICANA</td>\n",
       "      <td>20026.136364</td>\n",
       "    </tr>\n",
       "  </tbody>\n",
       "</table>\n",
       "</div>"
      ],
      "text/plain": [
       "        Suburb          Rent\n",
       "0     AGRARIA   13000.000000\n",
       "1   ALBATERRA    7250.000000\n",
       "2    ALTAMIRA   23250.000000\n",
       "3       ALTEA    7000.000000\n",
       "4   AMERICANA   20026.136364"
      ]
     },
     "execution_count": 6,
     "metadata": {},
     "output_type": "execute_result"
    }
   ],
   "source": [
    "source_rent_df = source_rent_df.groupby(['Suburb']).mean()\n",
    "source_rent_df.reset_index(inplace=True)\n",
    "source_rent_df.head()"
   ]
  },
  {
   "cell_type": "markdown",
   "metadata": {},
   "source": [
    "Looking good, let's check some basic stats as a sanity check."
   ]
  },
  {
   "cell_type": "code",
   "execution_count": 7,
   "metadata": {},
   "outputs": [
    {
     "data": {
      "text/html": [
       "<div>\n",
       "<style scoped>\n",
       "    .dataframe tbody tr th:only-of-type {\n",
       "        vertical-align: middle;\n",
       "    }\n",
       "\n",
       "    .dataframe tbody tr th {\n",
       "        vertical-align: top;\n",
       "    }\n",
       "\n",
       "    .dataframe thead th {\n",
       "        text-align: right;\n",
       "    }\n",
       "</style>\n",
       "<table border=\"1\" class=\"dataframe\">\n",
       "  <thead>\n",
       "    <tr style=\"text-align: right;\">\n",
       "      <th></th>\n",
       "      <th>Rent</th>\n",
       "    </tr>\n",
       "  </thead>\n",
       "  <tbody>\n",
       "    <tr>\n",
       "      <th>count</th>\n",
       "      <td>317.000000</td>\n",
       "    </tr>\n",
       "    <tr>\n",
       "      <th>mean</th>\n",
       "      <td>17272.443272</td>\n",
       "    </tr>\n",
       "    <tr>\n",
       "      <th>std</th>\n",
       "      <td>9935.217925</td>\n",
       "    </tr>\n",
       "    <tr>\n",
       "      <th>min</th>\n",
       "      <td>1800.000000</td>\n",
       "    </tr>\n",
       "    <tr>\n",
       "      <th>25%</th>\n",
       "      <td>9500.000000</td>\n",
       "    </tr>\n",
       "    <tr>\n",
       "      <th>50%</th>\n",
       "      <td>15500.000000</td>\n",
       "    </tr>\n",
       "    <tr>\n",
       "      <th>75%</th>\n",
       "      <td>23000.000000</td>\n",
       "    </tr>\n",
       "    <tr>\n",
       "      <th>max</th>\n",
       "      <td>65000.000000</td>\n",
       "    </tr>\n",
       "  </tbody>\n",
       "</table>\n",
       "</div>"
      ],
      "text/plain": [
       "               Rent\n",
       "count    317.000000\n",
       "mean   17272.443272\n",
       "std     9935.217925\n",
       "min     1800.000000\n",
       "25%     9500.000000\n",
       "50%    15500.000000\n",
       "75%    23000.000000\n",
       "max    65000.000000"
      ]
     },
     "execution_count": 7,
     "metadata": {},
     "output_type": "execute_result"
    }
   ],
   "source": [
    "source_rent_stats = source_rent_df.describe()\n",
    "source_rent_stats"
   ]
  },
  {
   "cell_type": "markdown",
   "metadata": {},
   "source": [
    "Since the source and targets may be in diferent countries, the rent prices will be in different currency. Also, the cost of living may be different. Thus, we need a relative measure of the rent price that can be used for comparison. I chose to use the percentile. Let's calculate what percentile does the source suburb belong to."
   ]
  },
  {
   "cell_type": "code",
   "execution_count": 8,
   "metadata": {},
   "outputs": [],
   "source": [
    "def calc_percentile(max_value, min_value, value):\n",
    "    return 100*((value - min_value)/(max_value-min_value))"
   ]
  },
  {
   "cell_type": "code",
   "execution_count": 9,
   "metadata": {},
   "outputs": [
    {
     "data": {
      "text/html": [
       "<div>\n",
       "<style scoped>\n",
       "    .dataframe tbody tr th:only-of-type {\n",
       "        vertical-align: middle;\n",
       "    }\n",
       "\n",
       "    .dataframe tbody tr th {\n",
       "        vertical-align: top;\n",
       "    }\n",
       "\n",
       "    .dataframe thead th {\n",
       "        text-align: right;\n",
       "    }\n",
       "</style>\n",
       "<table border=\"1\" class=\"dataframe\">\n",
       "  <thead>\n",
       "    <tr style=\"text-align: right;\">\n",
       "      <th></th>\n",
       "      <th>Suburb</th>\n",
       "      <th>Rent</th>\n",
       "      <th>Rent Percentile</th>\n",
       "    </tr>\n",
       "  </thead>\n",
       "  <tbody>\n",
       "    <tr>\n",
       "      <th>0</th>\n",
       "      <td>AGRARIA</td>\n",
       "      <td>13000.000000</td>\n",
       "      <td>17.721519</td>\n",
       "    </tr>\n",
       "    <tr>\n",
       "      <th>1</th>\n",
       "      <td>ALBATERRA</td>\n",
       "      <td>7250.000000</td>\n",
       "      <td>8.623418</td>\n",
       "    </tr>\n",
       "    <tr>\n",
       "      <th>2</th>\n",
       "      <td>ALTAMIRA</td>\n",
       "      <td>23250.000000</td>\n",
       "      <td>33.939873</td>\n",
       "    </tr>\n",
       "    <tr>\n",
       "      <th>3</th>\n",
       "      <td>ALTEA</td>\n",
       "      <td>7000.000000</td>\n",
       "      <td>8.227848</td>\n",
       "    </tr>\n",
       "    <tr>\n",
       "      <th>4</th>\n",
       "      <td>AMERICANA</td>\n",
       "      <td>20026.136364</td>\n",
       "      <td>28.838823</td>\n",
       "    </tr>\n",
       "  </tbody>\n",
       "</table>\n",
       "</div>"
      ],
      "text/plain": [
       "        Suburb          Rent  Rent Percentile\n",
       "0     AGRARIA   13000.000000        17.721519\n",
       "1   ALBATERRA    7250.000000         8.623418\n",
       "2    ALTAMIRA   23250.000000        33.939873\n",
       "3       ALTEA    7000.000000         8.227848\n",
       "4   AMERICANA   20026.136364        28.838823"
      ]
     },
     "execution_count": 9,
     "metadata": {},
     "output_type": "execute_result"
    }
   ],
   "source": [
    "# Create a percentile column for the source dataframe\n",
    "source_rent_df['Rent Percentile'] = calc_percentile(source_rent_df.max()['Rent'], source_rent_df.min()['Rent'], source_rent_df['Rent'])\n",
    "source_rent_df.head()"
   ]
  },
  {
   "cell_type": "code",
   "execution_count": 10,
   "metadata": {},
   "outputs": [
    {
     "data": {
      "text/html": [
       "<div>\n",
       "<style scoped>\n",
       "    .dataframe tbody tr th:only-of-type {\n",
       "        vertical-align: middle;\n",
       "    }\n",
       "\n",
       "    .dataframe tbody tr th {\n",
       "        vertical-align: top;\n",
       "    }\n",
       "\n",
       "    .dataframe thead th {\n",
       "        text-align: right;\n",
       "    }\n",
       "</style>\n",
       "<table border=\"1\" class=\"dataframe\">\n",
       "  <thead>\n",
       "    <tr style=\"text-align: right;\">\n",
       "      <th></th>\n",
       "      <th>Suburb</th>\n",
       "      <th>Rent</th>\n",
       "      <th>Rent Percentile</th>\n",
       "    </tr>\n",
       "  </thead>\n",
       "  <tbody>\n",
       "    <tr>\n",
       "      <th>313</th>\n",
       "      <td>PROVIDENCIA</td>\n",
       "      <td>26000.0</td>\n",
       "      <td>38.291139</td>\n",
       "    </tr>\n",
       "  </tbody>\n",
       "</table>\n",
       "</div>"
      ],
      "text/plain": [
       "          Suburb     Rent  Rent Percentile\n",
       "313  PROVIDENCIA  26000.0        38.291139"
      ]
     },
     "execution_count": 10,
     "metadata": {},
     "output_type": "execute_result"
    }
   ],
   "source": [
    "# Get the source median rent price\n",
    "source_rent_df[source_rent_df['Suburb']==source_suburb.upper()]"
   ]
  },
  {
   "cell_type": "markdown",
   "metadata": {},
   "source": [
    "## Venue data"
   ]
  },
  {
   "cell_type": "markdown",
   "metadata": {},
   "source": [
    "Now we just need to collect venue information for the source suburb, we'll use the Foursquare API for this."
   ]
  },
  {
   "cell_type": "code",
   "execution_count": 11,
   "metadata": {},
   "outputs": [
    {
     "name": "stdout",
     "output_type": "stream",
     "text": [
      "Your credentails:\n",
      "CLIENT_ID: 543RCQIDW44OE0ZDAPA5H5I3WDPAQTJZBSA1IIRNMYOV2B4W\n",
      "CLIENT_SECRET:HTU223QZD4GOZ3W2H424YP2CZ1LGKOF1KSYNKICNEOYAV1V2\n"
     ]
    }
   ],
   "source": [
    "CLIENT_ID = '543RCQIDW44OE0ZDAPA5H5I3WDPAQTJZBSA1IIRNMYOV2B4W' # your Foursquare ID\n",
    "CLIENT_SECRET = 'HTU223QZD4GOZ3W2H424YP2CZ1LGKOF1KSYNKICNEOYAV1V2' # your Foursquare Secret\n",
    "VERSION = '20180605' # Foursquare API version\n",
    "LIMIT = 200 # limit of number of venues returned by Foursquare API\n",
    "\n",
    "print('Your credentails:')\n",
    "print('CLIENT_ID: ' + CLIENT_ID)\n",
    "print('CLIENT_SECRET:' + CLIENT_SECRET)"
   ]
  },
  {
   "cell_type": "markdown",
   "metadata": {},
   "source": [
    "#### Define function to explore neighborhoods"
   ]
  },
  {
   "cell_type": "code",
   "execution_count": 12,
   "metadata": {},
   "outputs": [],
   "source": [
    "def getNearbyVenues(names, latitudes, longitudes, radius=500):\n",
    "    \n",
    "    venues_list=[]\n",
    "    for name, lat, lng in zip(names, latitudes, longitudes):\n",
    "        print(name)\n",
    "            \n",
    "        # create the API request URL\n",
    "        url = 'https://api.foursquare.com/v2/venues/explore?&client_id={}&client_secret={}&v={}&ll={},{}&radius={}&limit={}'.format(\n",
    "            CLIENT_ID, \n",
    "            CLIENT_SECRET, \n",
    "            VERSION, \n",
    "            lat, \n",
    "            lng, \n",
    "            radius, \n",
    "            LIMIT)\n",
    "            \n",
    "        # make the GET request\n",
    "        results = requests.get(url).json()[\"response\"]['groups'][0]['items']\n",
    "        \n",
    "        # return only relevant information for each nearby venue\n",
    "        venues_list.append([(\n",
    "            name, \n",
    "            lat, \n",
    "            lng, \n",
    "            v['venue']['name'], \n",
    "            v['venue']['location']['lat'], \n",
    "            v['venue']['location']['lng'],  \n",
    "            v['venue']['categories'][0]['name']) for v in results])\n",
    "\n",
    "    nearby_venues = pd.DataFrame([item for venue_list in venues_list for item in venue_list])\n",
    "    nearby_venues.columns = ['Neighborhood', \n",
    "                  'Neighborhood Latitude', \n",
    "                  'Neighborhood Longitude', \n",
    "                  'Venue', \n",
    "                  'Venue Latitude', \n",
    "                  'Venue Longitude', \n",
    "                  'Venue Category']\n",
    "    \n",
    "    return(nearby_venues)"
   ]
  },
  {
   "cell_type": "markdown",
   "metadata": {},
   "source": [
    "#### Now run the above function on each neighborhood and create a new dataframe called *source_venues*."
   ]
  },
  {
   "cell_type": "code",
   "execution_count": 13,
   "metadata": {
    "collapsed": false,
    "jupyter": {
     "outputs_hidden": false
    },
    "scrolled": true
   },
   "outputs": [
    {
     "name": "stdout",
     "output_type": "stream",
     "text": [
      "PROVIDENCIA\n"
     ]
    }
   ],
   "source": [
    "source_explore_data = pd.DataFrame({'Suburb':[source_suburb.upper()], 'Latitude':[source_loc[0]], 'Longitude':[source_loc[1]]})\n",
    "source_venues = getNearbyVenues(names=source_explore_data['Suburb'],\n",
    "                                 latitudes=source_explore_data['Latitude'],\n",
    "                                 longitudes=source_explore_data['Longitude'], radius = 500)"
   ]
  },
  {
   "cell_type": "markdown",
   "metadata": {},
   "source": [
    "#### Let's check the size of the resulting dataframe"
   ]
  },
  {
   "cell_type": "code",
   "execution_count": 14,
   "metadata": {
    "collapsed": false,
    "jupyter": {
     "outputs_hidden": false
    }
   },
   "outputs": [
    {
     "name": "stdout",
     "output_type": "stream",
     "text": [
      "(59, 7)\n"
     ]
    },
    {
     "data": {
      "text/html": [
       "<div>\n",
       "<style scoped>\n",
       "    .dataframe tbody tr th:only-of-type {\n",
       "        vertical-align: middle;\n",
       "    }\n",
       "\n",
       "    .dataframe tbody tr th {\n",
       "        vertical-align: top;\n",
       "    }\n",
       "\n",
       "    .dataframe thead th {\n",
       "        text-align: right;\n",
       "    }\n",
       "</style>\n",
       "<table border=\"1\" class=\"dataframe\">\n",
       "  <thead>\n",
       "    <tr style=\"text-align: right;\">\n",
       "      <th></th>\n",
       "      <th>Neighborhood</th>\n",
       "      <th>Neighborhood Latitude</th>\n",
       "      <th>Neighborhood Longitude</th>\n",
       "      <th>Venue</th>\n",
       "      <th>Venue Latitude</th>\n",
       "      <th>Venue Longitude</th>\n",
       "      <th>Venue Category</th>\n",
       "    </tr>\n",
       "  </thead>\n",
       "  <tbody>\n",
       "    <tr>\n",
       "      <th>0</th>\n",
       "      <td>PROVIDENCIA</td>\n",
       "      <td>20.697397</td>\n",
       "      <td>-103.378678</td>\n",
       "      <td>Sensecycle</td>\n",
       "      <td>20.698501</td>\n",
       "      <td>-103.377518</td>\n",
       "      <td>Other Event</td>\n",
       "    </tr>\n",
       "    <tr>\n",
       "      <th>1</th>\n",
       "      <td>PROVIDENCIA</td>\n",
       "      <td>20.697397</td>\n",
       "      <td>-103.378678</td>\n",
       "      <td>The Blooming Tea</td>\n",
       "      <td>20.697546</td>\n",
       "      <td>-103.380022</td>\n",
       "      <td>Tea Room</td>\n",
       "    </tr>\n",
       "    <tr>\n",
       "      <th>2</th>\n",
       "      <td>PROVIDENCIA</td>\n",
       "      <td>20.697397</td>\n",
       "      <td>-103.378678</td>\n",
       "      <td>Parque Dr. Atl</td>\n",
       "      <td>20.695867</td>\n",
       "      <td>-103.378644</td>\n",
       "      <td>Garden</td>\n",
       "    </tr>\n",
       "    <tr>\n",
       "      <th>3</th>\n",
       "      <td>PROVIDENCIA</td>\n",
       "      <td>20.697397</td>\n",
       "      <td>-103.378678</td>\n",
       "      <td>The Barre Studio</td>\n",
       "      <td>20.698223</td>\n",
       "      <td>-103.377308</td>\n",
       "      <td>Gym / Fitness Center</td>\n",
       "    </tr>\n",
       "    <tr>\n",
       "      <th>4</th>\n",
       "      <td>PROVIDENCIA</td>\n",
       "      <td>20.697397</td>\n",
       "      <td>-103.378678</td>\n",
       "      <td>Anytime Fitness Ottawa</td>\n",
       "      <td>20.698181</td>\n",
       "      <td>-103.377353</td>\n",
       "      <td>Gym / Fitness Center</td>\n",
       "    </tr>\n",
       "  </tbody>\n",
       "</table>\n",
       "</div>"
      ],
      "text/plain": [
       "  Neighborhood  Neighborhood Latitude  Neighborhood Longitude  \\\n",
       "0  PROVIDENCIA              20.697397             -103.378678   \n",
       "1  PROVIDENCIA              20.697397             -103.378678   \n",
       "2  PROVIDENCIA              20.697397             -103.378678   \n",
       "3  PROVIDENCIA              20.697397             -103.378678   \n",
       "4  PROVIDENCIA              20.697397             -103.378678   \n",
       "\n",
       "                    Venue  Venue Latitude  Venue Longitude  \\\n",
       "0              Sensecycle       20.698501      -103.377518   \n",
       "1        The Blooming Tea       20.697546      -103.380022   \n",
       "2          Parque Dr. Atl       20.695867      -103.378644   \n",
       "3        The Barre Studio       20.698223      -103.377308   \n",
       "4  Anytime Fitness Ottawa       20.698181      -103.377353   \n",
       "\n",
       "         Venue Category  \n",
       "0           Other Event  \n",
       "1              Tea Room  \n",
       "2                Garden  \n",
       "3  Gym / Fitness Center  \n",
       "4  Gym / Fitness Center  "
      ]
     },
     "execution_count": 14,
     "metadata": {},
     "output_type": "execute_result"
    }
   ],
   "source": [
    "print(source_venues.shape)\n",
    "source_venues.head()"
   ]
  },
  {
   "cell_type": "markdown",
   "metadata": {},
   "source": [
    "#### Let's find out how many unique categories can be curated from all the returned venues"
   ]
  },
  {
   "cell_type": "code",
   "execution_count": 15,
   "metadata": {
    "collapsed": false,
    "jupyter": {
     "outputs_hidden": false
    }
   },
   "outputs": [
    {
     "name": "stdout",
     "output_type": "stream",
     "text": [
      "There are 43 uniques categories.\n"
     ]
    }
   ],
   "source": [
    "print('There are {} uniques categories.'.format(len(source_venues['Venue Category'].unique())))"
   ]
  },
  {
   "cell_type": "markdown",
   "metadata": {},
   "source": [
    "### Suburb analysis"
   ]
  },
  {
   "cell_type": "code",
   "execution_count": 16,
   "metadata": {
    "collapsed": false,
    "jupyter": {
     "outputs_hidden": false
    }
   },
   "outputs": [
    {
     "data": {
      "text/html": [
       "<div>\n",
       "<style scoped>\n",
       "    .dataframe tbody tr th:only-of-type {\n",
       "        vertical-align: middle;\n",
       "    }\n",
       "\n",
       "    .dataframe tbody tr th {\n",
       "        vertical-align: top;\n",
       "    }\n",
       "\n",
       "    .dataframe thead th {\n",
       "        text-align: right;\n",
       "    }\n",
       "</style>\n",
       "<table border=\"1\" class=\"dataframe\">\n",
       "  <thead>\n",
       "    <tr style=\"text-align: right;\">\n",
       "      <th></th>\n",
       "      <th>Neighborhood</th>\n",
       "      <th>Argentinian Restaurant</th>\n",
       "      <th>Arts &amp; Crafts Store</th>\n",
       "      <th>Asian Restaurant</th>\n",
       "      <th>Café</th>\n",
       "      <th>Clothing Store</th>\n",
       "      <th>Coffee Shop</th>\n",
       "      <th>Convenience Store</th>\n",
       "      <th>Cosmetics Shop</th>\n",
       "      <th>Dance Studio</th>\n",
       "      <th>...</th>\n",
       "      <th>Shopping Mall</th>\n",
       "      <th>Snack Place</th>\n",
       "      <th>Spa</th>\n",
       "      <th>Supermarket</th>\n",
       "      <th>Sushi Restaurant</th>\n",
       "      <th>Taco Place</th>\n",
       "      <th>Tea Room</th>\n",
       "      <th>Toy / Game Store</th>\n",
       "      <th>Wings Joint</th>\n",
       "      <th>Yoga Studio</th>\n",
       "    </tr>\n",
       "  </thead>\n",
       "  <tbody>\n",
       "    <tr>\n",
       "      <th>0</th>\n",
       "      <td>PROVIDENCIA</td>\n",
       "      <td>0</td>\n",
       "      <td>0</td>\n",
       "      <td>0</td>\n",
       "      <td>0</td>\n",
       "      <td>0</td>\n",
       "      <td>0</td>\n",
       "      <td>0</td>\n",
       "      <td>0</td>\n",
       "      <td>0</td>\n",
       "      <td>...</td>\n",
       "      <td>0</td>\n",
       "      <td>0</td>\n",
       "      <td>0</td>\n",
       "      <td>0</td>\n",
       "      <td>0</td>\n",
       "      <td>0</td>\n",
       "      <td>0</td>\n",
       "      <td>0</td>\n",
       "      <td>0</td>\n",
       "      <td>0</td>\n",
       "    </tr>\n",
       "    <tr>\n",
       "      <th>1</th>\n",
       "      <td>PROVIDENCIA</td>\n",
       "      <td>0</td>\n",
       "      <td>0</td>\n",
       "      <td>0</td>\n",
       "      <td>0</td>\n",
       "      <td>0</td>\n",
       "      <td>0</td>\n",
       "      <td>0</td>\n",
       "      <td>0</td>\n",
       "      <td>0</td>\n",
       "      <td>...</td>\n",
       "      <td>0</td>\n",
       "      <td>0</td>\n",
       "      <td>0</td>\n",
       "      <td>0</td>\n",
       "      <td>0</td>\n",
       "      <td>0</td>\n",
       "      <td>1</td>\n",
       "      <td>0</td>\n",
       "      <td>0</td>\n",
       "      <td>0</td>\n",
       "    </tr>\n",
       "    <tr>\n",
       "      <th>2</th>\n",
       "      <td>PROVIDENCIA</td>\n",
       "      <td>0</td>\n",
       "      <td>0</td>\n",
       "      <td>0</td>\n",
       "      <td>0</td>\n",
       "      <td>0</td>\n",
       "      <td>0</td>\n",
       "      <td>0</td>\n",
       "      <td>0</td>\n",
       "      <td>0</td>\n",
       "      <td>...</td>\n",
       "      <td>0</td>\n",
       "      <td>0</td>\n",
       "      <td>0</td>\n",
       "      <td>0</td>\n",
       "      <td>0</td>\n",
       "      <td>0</td>\n",
       "      <td>0</td>\n",
       "      <td>0</td>\n",
       "      <td>0</td>\n",
       "      <td>0</td>\n",
       "    </tr>\n",
       "    <tr>\n",
       "      <th>3</th>\n",
       "      <td>PROVIDENCIA</td>\n",
       "      <td>0</td>\n",
       "      <td>0</td>\n",
       "      <td>0</td>\n",
       "      <td>0</td>\n",
       "      <td>0</td>\n",
       "      <td>0</td>\n",
       "      <td>0</td>\n",
       "      <td>0</td>\n",
       "      <td>0</td>\n",
       "      <td>...</td>\n",
       "      <td>0</td>\n",
       "      <td>0</td>\n",
       "      <td>0</td>\n",
       "      <td>0</td>\n",
       "      <td>0</td>\n",
       "      <td>0</td>\n",
       "      <td>0</td>\n",
       "      <td>0</td>\n",
       "      <td>0</td>\n",
       "      <td>0</td>\n",
       "    </tr>\n",
       "    <tr>\n",
       "      <th>4</th>\n",
       "      <td>PROVIDENCIA</td>\n",
       "      <td>0</td>\n",
       "      <td>0</td>\n",
       "      <td>0</td>\n",
       "      <td>0</td>\n",
       "      <td>0</td>\n",
       "      <td>0</td>\n",
       "      <td>0</td>\n",
       "      <td>0</td>\n",
       "      <td>0</td>\n",
       "      <td>...</td>\n",
       "      <td>0</td>\n",
       "      <td>0</td>\n",
       "      <td>0</td>\n",
       "      <td>0</td>\n",
       "      <td>0</td>\n",
       "      <td>0</td>\n",
       "      <td>0</td>\n",
       "      <td>0</td>\n",
       "      <td>0</td>\n",
       "      <td>0</td>\n",
       "    </tr>\n",
       "  </tbody>\n",
       "</table>\n",
       "<p>5 rows × 44 columns</p>\n",
       "</div>"
      ],
      "text/plain": [
       "  Neighborhood  Argentinian Restaurant  Arts & Crafts Store  Asian Restaurant  \\\n",
       "0  PROVIDENCIA                       0                    0                 0   \n",
       "1  PROVIDENCIA                       0                    0                 0   \n",
       "2  PROVIDENCIA                       0                    0                 0   \n",
       "3  PROVIDENCIA                       0                    0                 0   \n",
       "4  PROVIDENCIA                       0                    0                 0   \n",
       "\n",
       "   Café  Clothing Store  Coffee Shop  Convenience Store  Cosmetics Shop  \\\n",
       "0     0               0            0                  0               0   \n",
       "1     0               0            0                  0               0   \n",
       "2     0               0            0                  0               0   \n",
       "3     0               0            0                  0               0   \n",
       "4     0               0            0                  0               0   \n",
       "\n",
       "   Dance Studio  ...  Shopping Mall  Snack Place  Spa  Supermarket  \\\n",
       "0             0  ...              0            0    0            0   \n",
       "1             0  ...              0            0    0            0   \n",
       "2             0  ...              0            0    0            0   \n",
       "3             0  ...              0            0    0            0   \n",
       "4             0  ...              0            0    0            0   \n",
       "\n",
       "   Sushi Restaurant  Taco Place  Tea Room  Toy / Game Store  Wings Joint  \\\n",
       "0                 0           0         0                 0            0   \n",
       "1                 0           0         1                 0            0   \n",
       "2                 0           0         0                 0            0   \n",
       "3                 0           0         0                 0            0   \n",
       "4                 0           0         0                 0            0   \n",
       "\n",
       "   Yoga Studio  \n",
       "0            0  \n",
       "1            0  \n",
       "2            0  \n",
       "3            0  \n",
       "4            0  \n",
       "\n",
       "[5 rows x 44 columns]"
      ]
     },
     "execution_count": 16,
     "metadata": {},
     "output_type": "execute_result"
    }
   ],
   "source": [
    "# Start with one hot encoding\n",
    "source_onehot = pd.get_dummies(source_venues[['Venue Category']], prefix=\"\", prefix_sep=\"\")\n",
    "\n",
    "# add neighborhood column back to dataframe\n",
    "source_onehot['Neighborhood'] = source_venues['Neighborhood'] \n",
    "\n",
    "# move neighborhood column to the first column\n",
    "fixed_columns = [source_onehot.columns[-1]] + list(source_onehot.columns[:-1])\n",
    "source_onehot = source_onehot[fixed_columns]\n",
    "\n",
    "source_onehot.head()"
   ]
  },
  {
   "cell_type": "markdown",
   "metadata": {},
   "source": [
    "And let's examine the new dataframe size."
   ]
  },
  {
   "cell_type": "code",
   "execution_count": 17,
   "metadata": {
    "collapsed": false,
    "jupyter": {
     "outputs_hidden": false
    }
   },
   "outputs": [
    {
     "data": {
      "text/plain": [
       "(59, 44)"
      ]
     },
     "execution_count": 17,
     "metadata": {},
     "output_type": "execute_result"
    }
   ],
   "source": [
    "source_onehot.shape"
   ]
  },
  {
   "cell_type": "markdown",
   "metadata": {},
   "source": [
    "#### Next, let's group rows by neighborhood and by taking the mean of the frequency of occurrence of each category"
   ]
  },
  {
   "cell_type": "code",
   "execution_count": 18,
   "metadata": {
    "collapsed": false,
    "jupyter": {
     "outputs_hidden": false
    }
   },
   "outputs": [
    {
     "data": {
      "text/html": [
       "<div>\n",
       "<style scoped>\n",
       "    .dataframe tbody tr th:only-of-type {\n",
       "        vertical-align: middle;\n",
       "    }\n",
       "\n",
       "    .dataframe tbody tr th {\n",
       "        vertical-align: top;\n",
       "    }\n",
       "\n",
       "    .dataframe thead th {\n",
       "        text-align: right;\n",
       "    }\n",
       "</style>\n",
       "<table border=\"1\" class=\"dataframe\">\n",
       "  <thead>\n",
       "    <tr style=\"text-align: right;\">\n",
       "      <th></th>\n",
       "      <th>Neighborhood</th>\n",
       "      <th>Argentinian Restaurant</th>\n",
       "      <th>Arts &amp; Crafts Store</th>\n",
       "      <th>Asian Restaurant</th>\n",
       "      <th>Café</th>\n",
       "      <th>Clothing Store</th>\n",
       "      <th>Coffee Shop</th>\n",
       "      <th>Convenience Store</th>\n",
       "      <th>Cosmetics Shop</th>\n",
       "      <th>Dance Studio</th>\n",
       "      <th>...</th>\n",
       "      <th>Shopping Mall</th>\n",
       "      <th>Snack Place</th>\n",
       "      <th>Spa</th>\n",
       "      <th>Supermarket</th>\n",
       "      <th>Sushi Restaurant</th>\n",
       "      <th>Taco Place</th>\n",
       "      <th>Tea Room</th>\n",
       "      <th>Toy / Game Store</th>\n",
       "      <th>Wings Joint</th>\n",
       "      <th>Yoga Studio</th>\n",
       "    </tr>\n",
       "  </thead>\n",
       "  <tbody>\n",
       "    <tr>\n",
       "      <th>0</th>\n",
       "      <td>PROVIDENCIA</td>\n",
       "      <td>0.016949</td>\n",
       "      <td>0.016949</td>\n",
       "      <td>0.016949</td>\n",
       "      <td>0.033898</td>\n",
       "      <td>0.016949</td>\n",
       "      <td>0.067797</td>\n",
       "      <td>0.016949</td>\n",
       "      <td>0.016949</td>\n",
       "      <td>0.016949</td>\n",
       "      <td>...</td>\n",
       "      <td>0.016949</td>\n",
       "      <td>0.016949</td>\n",
       "      <td>0.033898</td>\n",
       "      <td>0.016949</td>\n",
       "      <td>0.016949</td>\n",
       "      <td>0.016949</td>\n",
       "      <td>0.016949</td>\n",
       "      <td>0.016949</td>\n",
       "      <td>0.016949</td>\n",
       "      <td>0.033898</td>\n",
       "    </tr>\n",
       "  </tbody>\n",
       "</table>\n",
       "<p>1 rows × 44 columns</p>\n",
       "</div>"
      ],
      "text/plain": [
       "  Neighborhood  Argentinian Restaurant  Arts & Crafts Store  Asian Restaurant  \\\n",
       "0  PROVIDENCIA                0.016949             0.016949          0.016949   \n",
       "\n",
       "       Café  Clothing Store  Coffee Shop  Convenience Store  Cosmetics Shop  \\\n",
       "0  0.033898        0.016949     0.067797           0.016949        0.016949   \n",
       "\n",
       "   Dance Studio  ...  Shopping Mall  Snack Place       Spa  Supermarket  \\\n",
       "0      0.016949  ...       0.016949     0.016949  0.033898     0.016949   \n",
       "\n",
       "   Sushi Restaurant  Taco Place  Tea Room  Toy / Game Store  Wings Joint  \\\n",
       "0          0.016949    0.016949  0.016949          0.016949     0.016949   \n",
       "\n",
       "   Yoga Studio  \n",
       "0     0.033898  \n",
       "\n",
       "[1 rows x 44 columns]"
      ]
     },
     "execution_count": 18,
     "metadata": {},
     "output_type": "execute_result"
    }
   ],
   "source": [
    "source_grouped = source_onehot.groupby('Neighborhood').mean().reset_index()\n",
    "source_grouped"
   ]
  },
  {
   "cell_type": "markdown",
   "metadata": {},
   "source": [
    "#### Combine with rent cost percentile"
   ]
  },
  {
   "cell_type": "code",
   "execution_count": 19,
   "metadata": {},
   "outputs": [
    {
     "data": {
      "text/html": [
       "<div>\n",
       "<style scoped>\n",
       "    .dataframe tbody tr th:only-of-type {\n",
       "        vertical-align: middle;\n",
       "    }\n",
       "\n",
       "    .dataframe tbody tr th {\n",
       "        vertical-align: top;\n",
       "    }\n",
       "\n",
       "    .dataframe thead th {\n",
       "        text-align: right;\n",
       "    }\n",
       "</style>\n",
       "<table border=\"1\" class=\"dataframe\">\n",
       "  <thead>\n",
       "    <tr style=\"text-align: right;\">\n",
       "      <th></th>\n",
       "      <th>Neighborhood</th>\n",
       "      <th>Argentinian Restaurant</th>\n",
       "      <th>Arts &amp; Crafts Store</th>\n",
       "      <th>Asian Restaurant</th>\n",
       "      <th>Café</th>\n",
       "      <th>Clothing Store</th>\n",
       "      <th>Coffee Shop</th>\n",
       "      <th>Convenience Store</th>\n",
       "      <th>Cosmetics Shop</th>\n",
       "      <th>Dance Studio</th>\n",
       "      <th>...</th>\n",
       "      <th>Spa</th>\n",
       "      <th>Supermarket</th>\n",
       "      <th>Sushi Restaurant</th>\n",
       "      <th>Taco Place</th>\n",
       "      <th>Tea Room</th>\n",
       "      <th>Toy / Game Store</th>\n",
       "      <th>Wings Joint</th>\n",
       "      <th>Yoga Studio</th>\n",
       "      <th>Rent</th>\n",
       "      <th>Rent Percentile</th>\n",
       "    </tr>\n",
       "  </thead>\n",
       "  <tbody>\n",
       "    <tr>\n",
       "      <th>0</th>\n",
       "      <td>PROVIDENCIA</td>\n",
       "      <td>0.016949</td>\n",
       "      <td>0.016949</td>\n",
       "      <td>0.016949</td>\n",
       "      <td>0.033898</td>\n",
       "      <td>0.016949</td>\n",
       "      <td>0.067797</td>\n",
       "      <td>0.016949</td>\n",
       "      <td>0.016949</td>\n",
       "      <td>0.016949</td>\n",
       "      <td>...</td>\n",
       "      <td>0.033898</td>\n",
       "      <td>0.016949</td>\n",
       "      <td>0.016949</td>\n",
       "      <td>0.016949</td>\n",
       "      <td>0.016949</td>\n",
       "      <td>0.016949</td>\n",
       "      <td>0.016949</td>\n",
       "      <td>0.033898</td>\n",
       "      <td>26000.0</td>\n",
       "      <td>38.291139</td>\n",
       "    </tr>\n",
       "  </tbody>\n",
       "</table>\n",
       "<p>1 rows × 46 columns</p>\n",
       "</div>"
      ],
      "text/plain": [
       "  Neighborhood  Argentinian Restaurant  Arts & Crafts Store  Asian Restaurant  \\\n",
       "0  PROVIDENCIA                0.016949             0.016949          0.016949   \n",
       "\n",
       "       Café  Clothing Store  Coffee Shop  Convenience Store  Cosmetics Shop  \\\n",
       "0  0.033898        0.016949     0.067797           0.016949        0.016949   \n",
       "\n",
       "   Dance Studio  ...       Spa  Supermarket  Sushi Restaurant  Taco Place  \\\n",
       "0      0.016949  ...  0.033898     0.016949          0.016949    0.016949   \n",
       "\n",
       "   Tea Room  Toy / Game Store  Wings Joint  Yoga Studio     Rent  \\\n",
       "0  0.016949          0.016949     0.016949     0.033898  26000.0   \n",
       "\n",
       "   Rent Percentile  \n",
       "0        38.291139  \n",
       "\n",
       "[1 rows x 46 columns]"
      ]
     },
     "execution_count": 19,
     "metadata": {},
     "output_type": "execute_result"
    }
   ],
   "source": [
    "source_grouped_full = source_grouped.merge(source_rent_df, left_on='Neighborhood', right_on='Suburb')\n",
    "source_grouped_full.drop(columns=['Suburb'], inplace=True)\n",
    "source_grouped_full.head()"
   ]
  },
  {
   "cell_type": "markdown",
   "metadata": {},
   "source": [
    "#### Let's confirm the new size"
   ]
  },
  {
   "cell_type": "code",
   "execution_count": 20,
   "metadata": {
    "collapsed": false,
    "jupyter": {
     "outputs_hidden": false
    }
   },
   "outputs": [
    {
     "data": {
      "text/plain": [
       "(1, 44)"
      ]
     },
     "execution_count": 20,
     "metadata": {},
     "output_type": "execute_result"
    }
   ],
   "source": [
    "source_grouped.shape"
   ]
  },
  {
   "cell_type": "markdown",
   "metadata": {},
   "source": [
    "#### Let's put the top venues into a *pandas* dataframe"
   ]
  },
  {
   "cell_type": "markdown",
   "metadata": {},
   "source": [
    "First, let's write a function to sort the venues in descending order."
   ]
  },
  {
   "cell_type": "code",
   "execution_count": 21,
   "metadata": {},
   "outputs": [],
   "source": [
    "def return_most_common_venues(row, num_top_venues):\n",
    "    row_categories = row.iloc[1:]\n",
    "    row_categories_sorted = row_categories.sort_values(ascending=False)\n",
    "    \n",
    "    return row_categories_sorted.index.values[0:num_top_venues]"
   ]
  },
  {
   "cell_type": "markdown",
   "metadata": {},
   "source": [
    "Now let's create the new dataframe and display the top 10 venues for each neighborhood."
   ]
  },
  {
   "cell_type": "code",
   "execution_count": 22,
   "metadata": {
    "collapsed": false,
    "jupyter": {
     "outputs_hidden": false
    }
   },
   "outputs": [
    {
     "data": {
      "text/html": [
       "<div>\n",
       "<style scoped>\n",
       "    .dataframe tbody tr th:only-of-type {\n",
       "        vertical-align: middle;\n",
       "    }\n",
       "\n",
       "    .dataframe tbody tr th {\n",
       "        vertical-align: top;\n",
       "    }\n",
       "\n",
       "    .dataframe thead th {\n",
       "        text-align: right;\n",
       "    }\n",
       "</style>\n",
       "<table border=\"1\" class=\"dataframe\">\n",
       "  <thead>\n",
       "    <tr style=\"text-align: right;\">\n",
       "      <th></th>\n",
       "      <th>Neighborhood</th>\n",
       "      <th>1st Most Common Venue</th>\n",
       "      <th>2nd Most Common Venue</th>\n",
       "      <th>3rd Most Common Venue</th>\n",
       "      <th>4th Most Common Venue</th>\n",
       "      <th>5th Most Common Venue</th>\n",
       "      <th>6th Most Common Venue</th>\n",
       "      <th>7th Most Common Venue</th>\n",
       "      <th>8th Most Common Venue</th>\n",
       "      <th>9th Most Common Venue</th>\n",
       "      <th>10th Most Common Venue</th>\n",
       "    </tr>\n",
       "  </thead>\n",
       "  <tbody>\n",
       "    <tr>\n",
       "      <th>0</th>\n",
       "      <td>PROVIDENCIA</td>\n",
       "      <td>Restaurant</td>\n",
       "      <td>Coffee Shop</td>\n",
       "      <td>Gym / Fitness Center</td>\n",
       "      <td>Nightclub</td>\n",
       "      <td>Yoga Studio</td>\n",
       "      <td>Café</td>\n",
       "      <td>Deli / Bodega</td>\n",
       "      <td>Mexican Restaurant</td>\n",
       "      <td>Ice Cream Shop</td>\n",
       "      <td>Spa</td>\n",
       "    </tr>\n",
       "  </tbody>\n",
       "</table>\n",
       "</div>"
      ],
      "text/plain": [
       "  Neighborhood 1st Most Common Venue 2nd Most Common Venue  \\\n",
       "0  PROVIDENCIA            Restaurant           Coffee Shop   \n",
       "\n",
       "  3rd Most Common Venue 4th Most Common Venue 5th Most Common Venue  \\\n",
       "0  Gym / Fitness Center             Nightclub           Yoga Studio   \n",
       "\n",
       "  6th Most Common Venue 7th Most Common Venue 8th Most Common Venue  \\\n",
       "0                  Café         Deli / Bodega    Mexican Restaurant   \n",
       "\n",
       "  9th Most Common Venue 10th Most Common Venue  \n",
       "0        Ice Cream Shop                    Spa  "
      ]
     },
     "execution_count": 22,
     "metadata": {},
     "output_type": "execute_result"
    }
   ],
   "source": [
    "num_top_venues = 10\n",
    "\n",
    "indicators = ['st', 'nd', 'rd']\n",
    "\n",
    "# create columns according to number of top venues\n",
    "columns = ['Neighborhood']\n",
    "for ind in np.arange(num_top_venues):\n",
    "    try:\n",
    "        columns.append('{}{} Most Common Venue'.format(ind+1, indicators[ind]))\n",
    "    except:\n",
    "        columns.append('{}th Most Common Venue'.format(ind+1))\n",
    "\n",
    "# create a new dataframe\n",
    "source_venues_sorted = pd.DataFrame(columns=columns)\n",
    "source_venues_sorted['Neighborhood'] = source_grouped['Neighborhood']\n",
    "\n",
    "for ind in np.arange(source_grouped.shape[0]):\n",
    "    source_venues_sorted.iloc[ind, 1:] = return_most_common_venues(source_grouped.iloc[ind, :], num_top_venues)\n",
    "\n",
    "source_venues_sorted.head()"
   ]
  },
  {
   "cell_type": "markdown",
   "metadata": {},
   "source": [
    "#### Combine with rent cost percentile"
   ]
  },
  {
   "cell_type": "code",
   "execution_count": 23,
   "metadata": {},
   "outputs": [
    {
     "data": {
      "text/html": [
       "<div>\n",
       "<style scoped>\n",
       "    .dataframe tbody tr th:only-of-type {\n",
       "        vertical-align: middle;\n",
       "    }\n",
       "\n",
       "    .dataframe tbody tr th {\n",
       "        vertical-align: top;\n",
       "    }\n",
       "\n",
       "    .dataframe thead th {\n",
       "        text-align: right;\n",
       "    }\n",
       "</style>\n",
       "<table border=\"1\" class=\"dataframe\">\n",
       "  <thead>\n",
       "    <tr style=\"text-align: right;\">\n",
       "      <th></th>\n",
       "      <th>Neighborhood</th>\n",
       "      <th>1st Most Common Venue</th>\n",
       "      <th>2nd Most Common Venue</th>\n",
       "      <th>3rd Most Common Venue</th>\n",
       "      <th>4th Most Common Venue</th>\n",
       "      <th>5th Most Common Venue</th>\n",
       "      <th>6th Most Common Venue</th>\n",
       "      <th>7th Most Common Venue</th>\n",
       "      <th>8th Most Common Venue</th>\n",
       "      <th>9th Most Common Venue</th>\n",
       "      <th>10th Most Common Venue</th>\n",
       "      <th>Rent Percentile</th>\n",
       "    </tr>\n",
       "  </thead>\n",
       "  <tbody>\n",
       "    <tr>\n",
       "      <th>0</th>\n",
       "      <td>PROVIDENCIA</td>\n",
       "      <td>Restaurant</td>\n",
       "      <td>Coffee Shop</td>\n",
       "      <td>Gym / Fitness Center</td>\n",
       "      <td>Nightclub</td>\n",
       "      <td>Yoga Studio</td>\n",
       "      <td>Café</td>\n",
       "      <td>Deli / Bodega</td>\n",
       "      <td>Mexican Restaurant</td>\n",
       "      <td>Ice Cream Shop</td>\n",
       "      <td>Spa</td>\n",
       "      <td>38.291139</td>\n",
       "    </tr>\n",
       "  </tbody>\n",
       "</table>\n",
       "</div>"
      ],
      "text/plain": [
       "  Neighborhood 1st Most Common Venue 2nd Most Common Venue  \\\n",
       "0  PROVIDENCIA            Restaurant           Coffee Shop   \n",
       "\n",
       "  3rd Most Common Venue 4th Most Common Venue 5th Most Common Venue  \\\n",
       "0  Gym / Fitness Center             Nightclub           Yoga Studio   \n",
       "\n",
       "  6th Most Common Venue 7th Most Common Venue 8th Most Common Venue  \\\n",
       "0                  Café         Deli / Bodega    Mexican Restaurant   \n",
       "\n",
       "  9th Most Common Venue 10th Most Common Venue  Rent Percentile  \n",
       "0        Ice Cream Shop                    Spa        38.291139  "
      ]
     },
     "execution_count": 23,
     "metadata": {},
     "output_type": "execute_result"
    }
   ],
   "source": [
    "source_venues_sorted['Rent Percentile'] = source_rent_df[source_rent_df['Suburb']==source_suburb.upper()]['Rent Percentile']\n",
    "source_venues_sorted.at[0, 'Rent Percentile'] = source_rent_df[source_rent_df['Suburb']==source_suburb.upper()]['Rent Percentile']\n",
    "source_venues_sorted.head()"
   ]
  },
  {
   "cell_type": "markdown",
   "metadata": {},
   "source": [
    "Now we have all the data from the source suburb to be able to compare it to suburbs in the target city."
   ]
  },
  {
   "cell_type": "markdown",
   "metadata": {},
   "source": [
    "# Target City Data"
   ]
  },
  {
   "cell_type": "markdown",
   "metadata": {},
   "source": [
    "## Geographical location"
   ]
  },
  {
   "cell_type": "markdown",
   "metadata": {},
   "source": [
    "Let's use geolocator to get the geographical coordinates of the source suburb of interest."
   ]
  },
  {
   "cell_type": "code",
   "execution_count": 24,
   "metadata": {},
   "outputs": [
    {
     "name": "stdout",
     "output_type": "stream",
     "text": [
      "The geograpical coordinates of MELBOURNE are -37.8142176, 144.9631608.\n"
     ]
    }
   ],
   "source": [
    "target_city = 'melbourne'\n",
    "target_state = 'victoria, australia'\n",
    "address = target_city + ', ' + target_state\n",
    "\n",
    "geolocator = Nominatim(user_agent=\"to_explorer\")\n",
    "location = geolocator.geocode(address)\n",
    "latitude = location.latitude\n",
    "longitude = location.longitude\n",
    "target_loc = [latitude, longitude]\n",
    "print('The geograpical coordinates of {} are {}, {}.'.format(target_city.upper(), latitude, longitude))"
   ]
  },
  {
   "cell_type": "markdown",
   "metadata": {},
   "source": [
    "Let's show it in the map"
   ]
  },
  {
   "cell_type": "code",
   "execution_count": 25,
   "metadata": {},
   "outputs": [
    {
     "data": {
      "text/html": [
       "<div style=\"width:100%;\"><div style=\"position:relative;width:100%;height:0;padding-bottom:60%;\"><iframe src=\"about:blank\" style=\"position:absolute;width:100%;height:100%;left:0;top:0;border:none !important;\" data-html=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 onload=\"this.contentDocument.open();this.contentDocument.write(atob(this.getAttribute('data-html')));this.contentDocument.close();\" allowfullscreen webkitallowfullscreen mozallowfullscreen></iframe></div></div>"
      ],
      "text/plain": [
       "<folium.folium.Map at 0x1f0ec793388>"
      ]
     },
     "execution_count": 25,
     "metadata": {},
     "output_type": "execute_result"
    }
   ],
   "source": [
    "# create map of New York using latitude and longitude values\n",
    "target_map = folium.Map(location=target_loc, zoom_start=11)\n",
    "target_map"
   ]
  },
  {
   "cell_type": "markdown",
   "metadata": {},
   "source": [
    "That looks about right!"
   ]
  },
  {
   "cell_type": "markdown",
   "metadata": {},
   "source": [
    "## Rent price data"
   ]
  },
  {
   "cell_type": "markdown",
   "metadata": {},
   "source": [
    "For the target city, I'll use the rents by suburb as provided by the Victorian goverment in https://www.dhhs.vic.gov.au/publications/rental-report.  \n",
    "The data is provided in weekly median rent prices, so these need to be converted to monthly. Only those for Melbourne will be used.  \n",
    "The data was cleaned a bit before to make it easier to import as it includes annual rates."
   ]
  },
  {
   "cell_type": "code",
   "execution_count": 26,
   "metadata": {},
   "outputs": [
    {
     "data": {
      "text/html": [
       "<div>\n",
       "<style scoped>\n",
       "    .dataframe tbody tr th:only-of-type {\n",
       "        vertical-align: middle;\n",
       "    }\n",
       "\n",
       "    .dataframe tbody tr th {\n",
       "        vertical-align: top;\n",
       "    }\n",
       "\n",
       "    .dataframe thead th {\n",
       "        text-align: right;\n",
       "    }\n",
       "</style>\n",
       "<table border=\"1\" class=\"dataframe\">\n",
       "  <thead>\n",
       "    <tr style=\"text-align: right;\">\n",
       "      <th></th>\n",
       "      <th>Suburb</th>\n",
       "      <th>Rent</th>\n",
       "    </tr>\n",
       "  </thead>\n",
       "  <tbody>\n",
       "    <tr>\n",
       "      <th>0</th>\n",
       "      <td>Albert Park-Middle Park-West St Kilda</td>\n",
       "      <td>2535.000000</td>\n",
       "    </tr>\n",
       "    <tr>\n",
       "      <th>1</th>\n",
       "      <td>Armadale</td>\n",
       "      <td>2080.000000</td>\n",
       "    </tr>\n",
       "    <tr>\n",
       "      <th>2</th>\n",
       "      <td>Carlton North</td>\n",
       "      <td>2491.666667</td>\n",
       "    </tr>\n",
       "    <tr>\n",
       "      <th>3</th>\n",
       "      <td>Carlton-Parkville</td>\n",
       "      <td>1841.666667</td>\n",
       "    </tr>\n",
       "    <tr>\n",
       "      <th>4</th>\n",
       "      <td>CBD-St Kilda Rd</td>\n",
       "      <td>2210.000000</td>\n",
       "    </tr>\n",
       "  </tbody>\n",
       "</table>\n",
       "</div>"
      ],
      "text/plain": [
       "                                  Suburb         Rent\n",
       "0  Albert Park-Middle Park-West St Kilda  2535.000000\n",
       "1                               Armadale  2080.000000\n",
       "2                          Carlton North  2491.666667\n",
       "3                      Carlton-Parkville  1841.666667\n",
       "4                        CBD-St Kilda Rd  2210.000000"
      ]
     },
     "execution_count": 26,
     "metadata": {},
     "output_type": "execute_result"
    }
   ],
   "source": [
    "target_rent_df = pd.read_csv('Data/Clean/Melbourne_Rent_Data.csv')\n",
    "target_rent_df['Rent'] = 52*target_rent_df['Rent']/12 # Convert to monthly rates\n",
    "target_rent_df.head()"
   ]
  },
  {
   "cell_type": "markdown",
   "metadata": {},
   "source": [
    "We can see that there are some suburbs that are grouped together, we need to split those."
   ]
  },
  {
   "cell_type": "code",
   "execution_count": 27,
   "metadata": {},
   "outputs": [
    {
     "data": {
      "text/html": [
       "<div>\n",
       "<style scoped>\n",
       "    .dataframe tbody tr th:only-of-type {\n",
       "        vertical-align: middle;\n",
       "    }\n",
       "\n",
       "    .dataframe tbody tr th {\n",
       "        vertical-align: top;\n",
       "    }\n",
       "\n",
       "    .dataframe thead th {\n",
       "        text-align: right;\n",
       "    }\n",
       "</style>\n",
       "<table border=\"1\" class=\"dataframe\">\n",
       "  <thead>\n",
       "    <tr style=\"text-align: right;\">\n",
       "      <th></th>\n",
       "      <th>Suburb</th>\n",
       "      <th>Rent</th>\n",
       "    </tr>\n",
       "  </thead>\n",
       "  <tbody>\n",
       "    <tr>\n",
       "      <th>0</th>\n",
       "      <td>Albert Park</td>\n",
       "      <td>2535.000000</td>\n",
       "    </tr>\n",
       "    <tr>\n",
       "      <th>1</th>\n",
       "      <td>Middle Park</td>\n",
       "      <td>2535.000000</td>\n",
       "    </tr>\n",
       "    <tr>\n",
       "      <th>2</th>\n",
       "      <td>West St Kilda</td>\n",
       "      <td>2535.000000</td>\n",
       "    </tr>\n",
       "    <tr>\n",
       "      <th>3</th>\n",
       "      <td>Armadale</td>\n",
       "      <td>2080.000000</td>\n",
       "    </tr>\n",
       "    <tr>\n",
       "      <th>4</th>\n",
       "      <td>Carlton North</td>\n",
       "      <td>2491.666667</td>\n",
       "    </tr>\n",
       "  </tbody>\n",
       "</table>\n",
       "</div>"
      ],
      "text/plain": [
       "          Suburb         Rent\n",
       "0    Albert Park  2535.000000\n",
       "1    Middle Park  2535.000000\n",
       "2  West St Kilda  2535.000000\n",
       "3       Armadale  2080.000000\n",
       "4  Carlton North  2491.666667"
      ]
     },
     "execution_count": 27,
     "metadata": {},
     "output_type": "execute_result"
    }
   ],
   "source": [
    "# Step 1\n",
    "# Create a new dataframe from the series and stack to keep the original index so we can extract the data\n",
    "new_df = pd.DataFrame(target_rent_df['Suburb'].str.split('-').tolist()).stack()\n",
    "\n",
    "# Step 2\n",
    "# Reset the index and rename columns so we can fill the rent data\n",
    "new_df = new_df.reset_index()\n",
    "new_df.columns = ['index', 'sub_i', 'Suburb']\n",
    "new_df.drop(columns=['sub_i'], inplace=True)\n",
    "\n",
    "# Step 3\n",
    "# Also need to reset the index of the previous dataframe\n",
    "target_rent_df.reset_index(inplace=True)\n",
    "\n",
    "# Step 4\n",
    "# Fit the rent data and drop the old index\n",
    "new_df = new_df.merge(target_rent_df, on='index', how='right')\n",
    "new_df.drop(columns=['index','Suburb_y'], inplace=True)\n",
    "new_df.columns=['Suburb','Rent']\n",
    "target_rent_df = new_df\n",
    "target_rent_df.head()"
   ]
  },
  {
   "cell_type": "markdown",
   "metadata": {},
   "source": [
    "Looking good, let's check some basic stats as a sanity check."
   ]
  },
  {
   "cell_type": "code",
   "execution_count": 28,
   "metadata": {},
   "outputs": [
    {
     "data": {
      "text/html": [
       "<div>\n",
       "<style scoped>\n",
       "    .dataframe tbody tr th:only-of-type {\n",
       "        vertical-align: middle;\n",
       "    }\n",
       "\n",
       "    .dataframe tbody tr th {\n",
       "        vertical-align: top;\n",
       "    }\n",
       "\n",
       "    .dataframe thead th {\n",
       "        text-align: right;\n",
       "    }\n",
       "</style>\n",
       "<table border=\"1\" class=\"dataframe\">\n",
       "  <thead>\n",
       "    <tr style=\"text-align: right;\">\n",
       "      <th></th>\n",
       "      <th>Rent</th>\n",
       "    </tr>\n",
       "  </thead>\n",
       "  <tbody>\n",
       "    <tr>\n",
       "      <th>count</th>\n",
       "      <td>158.000000</td>\n",
       "    </tr>\n",
       "    <tr>\n",
       "      <th>mean</th>\n",
       "      <td>1959.681435</td>\n",
       "    </tr>\n",
       "    <tr>\n",
       "      <th>std</th>\n",
       "      <td>288.584545</td>\n",
       "    </tr>\n",
       "    <tr>\n",
       "      <th>min</th>\n",
       "      <td>1473.333333</td>\n",
       "    </tr>\n",
       "    <tr>\n",
       "      <th>25%</th>\n",
       "      <td>1733.333333</td>\n",
       "    </tr>\n",
       "    <tr>\n",
       "      <th>50%</th>\n",
       "      <td>1939.166667</td>\n",
       "    </tr>\n",
       "    <tr>\n",
       "      <th>75%</th>\n",
       "      <td>2145.000000</td>\n",
       "    </tr>\n",
       "    <tr>\n",
       "      <th>max</th>\n",
       "      <td>2990.000000</td>\n",
       "    </tr>\n",
       "  </tbody>\n",
       "</table>\n",
       "</div>"
      ],
      "text/plain": [
       "              Rent\n",
       "count   158.000000\n",
       "mean   1959.681435\n",
       "std     288.584545\n",
       "min    1473.333333\n",
       "25%    1733.333333\n",
       "50%    1939.166667\n",
       "75%    2145.000000\n",
       "max    2990.000000"
      ]
     },
     "execution_count": 28,
     "metadata": {},
     "output_type": "execute_result"
    }
   ],
   "source": [
    "target_rent_stats = target_rent_df.describe()\n",
    "target_rent_stats"
   ]
  },
  {
   "cell_type": "markdown",
   "metadata": {},
   "source": [
    "Let's calculate the suburb percentiles."
   ]
  },
  {
   "cell_type": "code",
   "execution_count": 29,
   "metadata": {},
   "outputs": [
    {
     "data": {
      "text/html": [
       "<div>\n",
       "<style scoped>\n",
       "    .dataframe tbody tr th:only-of-type {\n",
       "        vertical-align: middle;\n",
       "    }\n",
       "\n",
       "    .dataframe tbody tr th {\n",
       "        vertical-align: top;\n",
       "    }\n",
       "\n",
       "    .dataframe thead th {\n",
       "        text-align: right;\n",
       "    }\n",
       "</style>\n",
       "<table border=\"1\" class=\"dataframe\">\n",
       "  <thead>\n",
       "    <tr style=\"text-align: right;\">\n",
       "      <th></th>\n",
       "      <th>Suburb</th>\n",
       "      <th>Rent</th>\n",
       "      <th>Rent Percentile</th>\n",
       "    </tr>\n",
       "  </thead>\n",
       "  <tbody>\n",
       "    <tr>\n",
       "      <th>0</th>\n",
       "      <td>Albert Park</td>\n",
       "      <td>2535.000000</td>\n",
       "      <td>70.000000</td>\n",
       "    </tr>\n",
       "    <tr>\n",
       "      <th>1</th>\n",
       "      <td>Middle Park</td>\n",
       "      <td>2535.000000</td>\n",
       "      <td>70.000000</td>\n",
       "    </tr>\n",
       "    <tr>\n",
       "      <th>2</th>\n",
       "      <td>West St Kilda</td>\n",
       "      <td>2535.000000</td>\n",
       "      <td>70.000000</td>\n",
       "    </tr>\n",
       "    <tr>\n",
       "      <th>3</th>\n",
       "      <td>Armadale</td>\n",
       "      <td>2080.000000</td>\n",
       "      <td>40.000000</td>\n",
       "    </tr>\n",
       "    <tr>\n",
       "      <th>4</th>\n",
       "      <td>Carlton North</td>\n",
       "      <td>2491.666667</td>\n",
       "      <td>67.142857</td>\n",
       "    </tr>\n",
       "  </tbody>\n",
       "</table>\n",
       "</div>"
      ],
      "text/plain": [
       "          Suburb         Rent  Rent Percentile\n",
       "0    Albert Park  2535.000000        70.000000\n",
       "1    Middle Park  2535.000000        70.000000\n",
       "2  West St Kilda  2535.000000        70.000000\n",
       "3       Armadale  2080.000000        40.000000\n",
       "4  Carlton North  2491.666667        67.142857"
      ]
     },
     "execution_count": 29,
     "metadata": {},
     "output_type": "execute_result"
    }
   ],
   "source": [
    "# Create a percentile column for the source dataframe\n",
    "target_rent_df['Rent Percentile'] = calc_percentile(target_rent_df.max()['Rent'], target_rent_df.min()['Rent'], target_rent_df['Rent'])\n",
    "target_rent_df.head()"
   ]
  },
  {
   "cell_type": "markdown",
   "metadata": {},
   "source": [
    "## Venue data"
   ]
  },
  {
   "cell_type": "markdown",
   "metadata": {},
   "source": [
    "Now we need to collect venue information for all the suburbs in the target city, we'll use the Foursquare API for this."
   ]
  },
  {
   "cell_type": "markdown",
   "metadata": {},
   "source": [
    "#### First, we need to gather the geolocation data for the suburbs in the target city dataframe"
   ]
  },
  {
   "cell_type": "code",
   "execution_count": 30,
   "metadata": {},
   "outputs": [
    {
     "name": "stdout",
     "output_type": "stream",
     "text": [
      "East Hawthorn skipped.\n"
     ]
    }
   ],
   "source": [
    "geolocator = Nominatim(user_agent=\"to_explorer\", timeout=5)\n",
    "latitudes = []\n",
    "longitudes = []\n",
    "suburbs = []\n",
    "\n",
    "# Repeat for each suburb\n",
    "for suburb in target_rent_df['Suburb']:\n",
    "\n",
    "    # Get location\n",
    "    #address = suburb + ', ' + target_city + ', ' + target_state    \n",
    "    address = suburb + ', ' + target_state    \n",
    "    location = geolocator.geocode(address)\n",
    "    \n",
    "    if type(location) != type(None):\n",
    "        latitude = location.latitude\n",
    "        longitude = location.longitude\n",
    "\n",
    "        latitudes.append(latitude)\n",
    "        longitudes.append(longitude)\n",
    "        suburbs.append(suburb)\n",
    "    else:\n",
    "        print(suburb + ' skipped.')"
   ]
  },
  {
   "cell_type": "markdown",
   "metadata": {},
   "source": [
    "Create a dataframe with the geo data and save to CSV as this takes long to obtain, just in case something goes wrong."
   ]
  },
  {
   "cell_type": "code",
   "execution_count": 31,
   "metadata": {},
   "outputs": [
    {
     "data": {
      "text/html": [
       "<div>\n",
       "<style scoped>\n",
       "    .dataframe tbody tr th:only-of-type {\n",
       "        vertical-align: middle;\n",
       "    }\n",
       "\n",
       "    .dataframe tbody tr th {\n",
       "        vertical-align: top;\n",
       "    }\n",
       "\n",
       "    .dataframe thead th {\n",
       "        text-align: right;\n",
       "    }\n",
       "</style>\n",
       "<table border=\"1\" class=\"dataframe\">\n",
       "  <thead>\n",
       "    <tr style=\"text-align: right;\">\n",
       "      <th></th>\n",
       "      <th>Suburb</th>\n",
       "      <th>Latitude</th>\n",
       "      <th>Longitude</th>\n",
       "    </tr>\n",
       "  </thead>\n",
       "  <tbody>\n",
       "    <tr>\n",
       "      <th>0</th>\n",
       "      <td>Albert Park</td>\n",
       "      <td>-37.847772</td>\n",
       "      <td>144.962008</td>\n",
       "    </tr>\n",
       "    <tr>\n",
       "      <th>1</th>\n",
       "      <td>Middle Park</td>\n",
       "      <td>-37.851151</td>\n",
       "      <td>144.962040</td>\n",
       "    </tr>\n",
       "    <tr>\n",
       "      <th>2</th>\n",
       "      <td>West St Kilda</td>\n",
       "      <td>-37.863826</td>\n",
       "      <td>144.981637</td>\n",
       "    </tr>\n",
       "    <tr>\n",
       "      <th>3</th>\n",
       "      <td>Armadale</td>\n",
       "      <td>-37.856762</td>\n",
       "      <td>145.020691</td>\n",
       "    </tr>\n",
       "    <tr>\n",
       "      <th>4</th>\n",
       "      <td>Carlton North</td>\n",
       "      <td>-37.784559</td>\n",
       "      <td>144.972855</td>\n",
       "    </tr>\n",
       "  </tbody>\n",
       "</table>\n",
       "</div>"
      ],
      "text/plain": [
       "          Suburb   Latitude   Longitude\n",
       "0    Albert Park -37.847772  144.962008\n",
       "1    Middle Park -37.851151  144.962040\n",
       "2  West St Kilda -37.863826  144.981637\n",
       "3       Armadale -37.856762  145.020691\n",
       "4  Carlton North -37.784559  144.972855"
      ]
     },
     "execution_count": 31,
     "metadata": {},
     "output_type": "execute_result"
    }
   ],
   "source": [
    "target_geo_data = pd.DataFrame({'Suburb':suburbs, 'Latitude':latitudes, 'Longitude':longitudes})\n",
    "target_geo_data.to_csv('Data/Clean/target_geo.csv', index=False)\n",
    "target_geo_data.head()"
   ]
  },
  {
   "cell_type": "markdown",
   "metadata": {},
   "source": [
    "#### Now let's merge the geo data with the rent data"
   ]
  },
  {
   "cell_type": "code",
   "execution_count": 32,
   "metadata": {},
   "outputs": [
    {
     "name": "stdout",
     "output_type": "stream",
     "text": [
      "(157, 5)\n"
     ]
    },
    {
     "data": {
      "text/html": [
       "<div>\n",
       "<style scoped>\n",
       "    .dataframe tbody tr th:only-of-type {\n",
       "        vertical-align: middle;\n",
       "    }\n",
       "\n",
       "    .dataframe tbody tr th {\n",
       "        vertical-align: top;\n",
       "    }\n",
       "\n",
       "    .dataframe thead th {\n",
       "        text-align: right;\n",
       "    }\n",
       "</style>\n",
       "<table border=\"1\" class=\"dataframe\">\n",
       "  <thead>\n",
       "    <tr style=\"text-align: right;\">\n",
       "      <th></th>\n",
       "      <th>Suburb</th>\n",
       "      <th>Rent</th>\n",
       "      <th>Rent Percentile</th>\n",
       "      <th>Latitude</th>\n",
       "      <th>Longitude</th>\n",
       "    </tr>\n",
       "  </thead>\n",
       "  <tbody>\n",
       "    <tr>\n",
       "      <th>0</th>\n",
       "      <td>Albert Park</td>\n",
       "      <td>2535.000000</td>\n",
       "      <td>70.000000</td>\n",
       "      <td>-37.847772</td>\n",
       "      <td>144.962008</td>\n",
       "    </tr>\n",
       "    <tr>\n",
       "      <th>1</th>\n",
       "      <td>Middle Park</td>\n",
       "      <td>2535.000000</td>\n",
       "      <td>70.000000</td>\n",
       "      <td>-37.851151</td>\n",
       "      <td>144.962040</td>\n",
       "    </tr>\n",
       "    <tr>\n",
       "      <th>2</th>\n",
       "      <td>West St Kilda</td>\n",
       "      <td>2535.000000</td>\n",
       "      <td>70.000000</td>\n",
       "      <td>-37.863826</td>\n",
       "      <td>144.981637</td>\n",
       "    </tr>\n",
       "    <tr>\n",
       "      <th>3</th>\n",
       "      <td>Armadale</td>\n",
       "      <td>2080.000000</td>\n",
       "      <td>40.000000</td>\n",
       "      <td>-37.856762</td>\n",
       "      <td>145.020691</td>\n",
       "    </tr>\n",
       "    <tr>\n",
       "      <th>4</th>\n",
       "      <td>Carlton North</td>\n",
       "      <td>2491.666667</td>\n",
       "      <td>67.142857</td>\n",
       "      <td>-37.784559</td>\n",
       "      <td>144.972855</td>\n",
       "    </tr>\n",
       "  </tbody>\n",
       "</table>\n",
       "</div>"
      ],
      "text/plain": [
       "          Suburb         Rent  Rent Percentile   Latitude   Longitude\n",
       "0    Albert Park  2535.000000        70.000000 -37.847772  144.962008\n",
       "1    Middle Park  2535.000000        70.000000 -37.851151  144.962040\n",
       "2  West St Kilda  2535.000000        70.000000 -37.863826  144.981637\n",
       "3       Armadale  2080.000000        40.000000 -37.856762  145.020691\n",
       "4  Carlton North  2491.666667        67.142857 -37.784559  144.972855"
      ]
     },
     "execution_count": 32,
     "metadata": {},
     "output_type": "execute_result"
    }
   ],
   "source": [
    "target_rent_df = target_rent_df.merge(target_geo_data, on='Suburb', how='right')\n",
    "print(target_rent_df.shape)\n",
    "target_rent_df.head()"
   ]
  },
  {
   "cell_type": "markdown",
   "metadata": {},
   "source": [
    "Looking pretty good!"
   ]
  },
  {
   "cell_type": "markdown",
   "metadata": {},
   "source": [
    "#### OK! Let's get venue data now."
   ]
  },
  {
   "cell_type": "code",
   "execution_count": 33,
   "metadata": {
    "collapsed": false,
    "jupyter": {
     "outputs_hidden": false
    },
    "scrolled": true
   },
   "outputs": [
    {
     "name": "stdout",
     "output_type": "stream",
     "text": [
      "Albert Park\n",
      "Middle Park\n",
      "West St Kilda\n",
      "Armadale\n",
      "Carlton North\n",
      "Carlton\n",
      "Parkville\n",
      "CBD\n",
      "St Kilda Rd\n",
      "Collingwood\n",
      "Abbotsford\n",
      "Docklands\n",
      "East Melbourne\n",
      "East St Kilda\n",
      "Elwood\n",
      "Fitzroy\n",
      "Fitzroy North\n",
      "Clifton Hill\n",
      "Flemington\n",
      "Kensington\n",
      "North Melbourne\n",
      "West Melbourne\n",
      "Port Melbourne\n",
      "Prahran\n",
      "Windsor\n",
      "Richmond\n",
      "Burnley\n",
      "South Melbourne\n",
      "South Yarra\n",
      "Southbank\n",
      "St Kilda\n",
      "Toorak\n",
      "Balwyn\n",
      "Blackburn\n",
      "Box Hill\n",
      "Bulleen\n",
      "Templestowe\n",
      "Doncaster\n",
      "Burwood\n",
      "Ashburton\n",
      "Camberwell\n",
      "Glen Iris\n",
      "Canterbury\n",
      "Surrey Hills\n",
      "Mont Albert\n",
      "Chadstone\n",
      "Oakleigh\n",
      "Clayton\n",
      "Doncaster East\n",
      "Donvale\n",
      "Glen Waverley\n",
      "Mulgrave\n",
      "Hawthorn\n",
      "Kew\n",
      "Mount Waverley\n",
      "Nunawading\n",
      "Mitcham\n",
      "Vermont\n",
      "Forest Hill\n",
      "Burwood East\n",
      "Aspendale\n",
      "Chelsea\n",
      "Carrum\n",
      "Bentleigh\n",
      "Brighton\n",
      "Brighton East\n",
      "Carnegie\n",
      "Caulfield\n",
      "Cheltenham\n",
      "Elsternwick\n",
      "Hampton\n",
      "Beaumaris\n",
      "Malvern\n",
      "Malvern East\n",
      "Mentone\n",
      "Parkdale\n",
      "Mordialloc\n",
      "Murrumbeena\n",
      "Hughesdale\n",
      "Altona\n",
      "Footscray\n",
      "Keilor East\n",
      "Avondale Heights\n",
      "Melton\n",
      "Newport\n",
      "Spotswood\n",
      "St Albans\n",
      "Deer Park\n",
      "Sunshine\n",
      "Sydenham\n",
      "Werribee\n",
      "Hoppers Crossing\n",
      "West Footscray\n",
      "Williamstown\n",
      "Yarraville\n",
      "Seddon\n",
      "Broadmeadows\n",
      "Roxburgh Park\n",
      "Brunswick\n",
      "Coburg\n",
      "Pascoe Vale South\n",
      "Craigieburn\n",
      "East Brunswick\n",
      "Essendon\n",
      "Gladstone Park\n",
      "Tullamarine\n",
      "Keilor\n",
      "Moonee Ponds\n",
      "Ascot Vale\n",
      "Oak Park\n",
      "Glenroy\n",
      "Fawkner\n",
      "Pascoe Vale\n",
      "Coburg North\n",
      "Sunbury\n",
      "West Brunswick\n",
      "Bundoora\n",
      "Greensborough\n",
      "Hurstbridge\n",
      "Eltham\n",
      "Research\n",
      "Montmorency\n",
      "Fairfield\n",
      "Alphington\n",
      "Heidelberg\n",
      "Heidelberg West\n",
      "Ivanhoe\n",
      "Ivanhoe East\n",
      "Mill Park\n",
      "Epping\n",
      "Northcote\n",
      "Preston\n",
      "Reservoir\n",
      "Thomastown\n",
      "Lalor\n",
      "Thornbury\n",
      "Whittlesea\n",
      "Bayswater\n",
      "Boronia\n",
      "Croydon\n",
      "Lilydale\n",
      "Ferntree Gully\n",
      "Ringwood\n",
      "Rowville\n",
      "Wantirna\n",
      "Scoresby\n",
      "Yarra Ranges\n",
      "Berwick\n",
      "Cranbourne\n",
      "Dandenong\n",
      "Dandenong North\n",
      "Endeavour Hills\n",
      "Narre Warren\n",
      "Hampton Park\n",
      "Noble Park\n",
      "Pakenham\n",
      "Springvale\n"
     ]
    }
   ],
   "source": [
    "target_venues = getNearbyVenues(names=target_rent_df['Suburb'],\n",
    "                                 latitudes=target_rent_df['Latitude'],\n",
    "                                 longitudes=target_rent_df['Longitude'], radius = 500)"
   ]
  },
  {
   "cell_type": "markdown",
   "metadata": {},
   "source": [
    "#### Let's check the size of the resulting dataframe"
   ]
  },
  {
   "cell_type": "code",
   "execution_count": 34,
   "metadata": {
    "collapsed": false,
    "jupyter": {
     "outputs_hidden": false
    }
   },
   "outputs": [
    {
     "name": "stdout",
     "output_type": "stream",
     "text": [
      "(2612, 7)\n"
     ]
    },
    {
     "data": {
      "text/html": [
       "<div>\n",
       "<style scoped>\n",
       "    .dataframe tbody tr th:only-of-type {\n",
       "        vertical-align: middle;\n",
       "    }\n",
       "\n",
       "    .dataframe tbody tr th {\n",
       "        vertical-align: top;\n",
       "    }\n",
       "\n",
       "    .dataframe thead th {\n",
       "        text-align: right;\n",
       "    }\n",
       "</style>\n",
       "<table border=\"1\" class=\"dataframe\">\n",
       "  <thead>\n",
       "    <tr style=\"text-align: right;\">\n",
       "      <th></th>\n",
       "      <th>Neighborhood</th>\n",
       "      <th>Neighborhood Latitude</th>\n",
       "      <th>Neighborhood Longitude</th>\n",
       "      <th>Venue</th>\n",
       "      <th>Venue Latitude</th>\n",
       "      <th>Venue Longitude</th>\n",
       "      <th>Venue Category</th>\n",
       "    </tr>\n",
       "  </thead>\n",
       "  <tbody>\n",
       "    <tr>\n",
       "      <th>0</th>\n",
       "      <td>Albert Park</td>\n",
       "      <td>-37.847772</td>\n",
       "      <td>144.962008</td>\n",
       "      <td>Formula 1 Grand Prix Circuit</td>\n",
       "      <td>-37.848324</td>\n",
       "      <td>144.967346</td>\n",
       "      <td>Racetrack</td>\n",
       "    </tr>\n",
       "    <tr>\n",
       "      <th>1</th>\n",
       "      <td>Albert Park</td>\n",
       "      <td>-37.847772</td>\n",
       "      <td>144.962008</td>\n",
       "      <td>Albert Park Driving Range</td>\n",
       "      <td>-37.844778</td>\n",
       "      <td>144.962922</td>\n",
       "      <td>Golf Course</td>\n",
       "    </tr>\n",
       "    <tr>\n",
       "      <th>2</th>\n",
       "      <td>Albert Park</td>\n",
       "      <td>-37.847772</td>\n",
       "      <td>144.962008</td>\n",
       "      <td>Hot Honey Cafe</td>\n",
       "      <td>-37.850893</td>\n",
       "      <td>144.963772</td>\n",
       "      <td>Café</td>\n",
       "    </tr>\n",
       "    <tr>\n",
       "      <th>3</th>\n",
       "      <td>Albert Park</td>\n",
       "      <td>-37.847772</td>\n",
       "      <td>144.962008</td>\n",
       "      <td>The Armstrong Street Foodstore</td>\n",
       "      <td>-37.850394</td>\n",
       "      <td>144.964328</td>\n",
       "      <td>Café</td>\n",
       "    </tr>\n",
       "    <tr>\n",
       "      <th>4</th>\n",
       "      <td>Albert Park</td>\n",
       "      <td>-37.847772</td>\n",
       "      <td>144.962008</td>\n",
       "      <td>The Roti Man</td>\n",
       "      <td>-37.849948</td>\n",
       "      <td>144.964738</td>\n",
       "      <td>Indian Restaurant</td>\n",
       "    </tr>\n",
       "  </tbody>\n",
       "</table>\n",
       "</div>"
      ],
      "text/plain": [
       "  Neighborhood  Neighborhood Latitude  Neighborhood Longitude  \\\n",
       "0  Albert Park             -37.847772              144.962008   \n",
       "1  Albert Park             -37.847772              144.962008   \n",
       "2  Albert Park             -37.847772              144.962008   \n",
       "3  Albert Park             -37.847772              144.962008   \n",
       "4  Albert Park             -37.847772              144.962008   \n",
       "\n",
       "                            Venue  Venue Latitude  Venue Longitude  \\\n",
       "0    Formula 1 Grand Prix Circuit      -37.848324       144.967346   \n",
       "1       Albert Park Driving Range      -37.844778       144.962922   \n",
       "2                  Hot Honey Cafe      -37.850893       144.963772   \n",
       "3  The Armstrong Street Foodstore      -37.850394       144.964328   \n",
       "4                    The Roti Man      -37.849948       144.964738   \n",
       "\n",
       "      Venue Category  \n",
       "0          Racetrack  \n",
       "1        Golf Course  \n",
       "2               Café  \n",
       "3               Café  \n",
       "4  Indian Restaurant  "
      ]
     },
     "execution_count": 34,
     "metadata": {},
     "output_type": "execute_result"
    }
   ],
   "source": [
    "print(target_venues.shape)\n",
    "target_venues.head()"
   ]
  },
  {
   "cell_type": "markdown",
   "metadata": {},
   "source": [
    "#### Let's find out how many unique categories can be curated from all the returned venues"
   ]
  },
  {
   "cell_type": "code",
   "execution_count": 35,
   "metadata": {
    "collapsed": false,
    "jupyter": {
     "outputs_hidden": false
    }
   },
   "outputs": [
    {
     "name": "stdout",
     "output_type": "stream",
     "text": [
      "There are 264 uniques categories.\n"
     ]
    }
   ],
   "source": [
    "print('There are {} uniques categories.'.format(len(target_venues['Venue Category'].unique())))"
   ]
  },
  {
   "cell_type": "markdown",
   "metadata": {},
   "source": [
    "### Suburb analysis"
   ]
  },
  {
   "cell_type": "code",
   "execution_count": 36,
   "metadata": {
    "collapsed": false,
    "jupyter": {
     "outputs_hidden": false
    }
   },
   "outputs": [
    {
     "data": {
      "text/html": [
       "<div>\n",
       "<style scoped>\n",
       "    .dataframe tbody tr th:only-of-type {\n",
       "        vertical-align: middle;\n",
       "    }\n",
       "\n",
       "    .dataframe tbody tr th {\n",
       "        vertical-align: top;\n",
       "    }\n",
       "\n",
       "    .dataframe thead th {\n",
       "        text-align: right;\n",
       "    }\n",
       "</style>\n",
       "<table border=\"1\" class=\"dataframe\">\n",
       "  <thead>\n",
       "    <tr style=\"text-align: right;\">\n",
       "      <th></th>\n",
       "      <th>Neighborhood</th>\n",
       "      <th>Accessories Store</th>\n",
       "      <th>Afghan Restaurant</th>\n",
       "      <th>African Restaurant</th>\n",
       "      <th>American Restaurant</th>\n",
       "      <th>Antique Shop</th>\n",
       "      <th>Arcade</th>\n",
       "      <th>Argentinian Restaurant</th>\n",
       "      <th>Art Gallery</th>\n",
       "      <th>Art Museum</th>\n",
       "      <th>...</th>\n",
       "      <th>Whisky Bar</th>\n",
       "      <th>Wine Bar</th>\n",
       "      <th>Wine Shop</th>\n",
       "      <th>Wings Joint</th>\n",
       "      <th>Women's Store</th>\n",
       "      <th>Xinjiang Restaurant</th>\n",
       "      <th>Yoga Studio</th>\n",
       "      <th>Yunnan Restaurant</th>\n",
       "      <th>Zoo</th>\n",
       "      <th>Zoo Exhibit</th>\n",
       "    </tr>\n",
       "  </thead>\n",
       "  <tbody>\n",
       "    <tr>\n",
       "      <th>0</th>\n",
       "      <td>Albert Park</td>\n",
       "      <td>0</td>\n",
       "      <td>0</td>\n",
       "      <td>0</td>\n",
       "      <td>0</td>\n",
       "      <td>0</td>\n",
       "      <td>0</td>\n",
       "      <td>0</td>\n",
       "      <td>0</td>\n",
       "      <td>0</td>\n",
       "      <td>...</td>\n",
       "      <td>0</td>\n",
       "      <td>0</td>\n",
       "      <td>0</td>\n",
       "      <td>0</td>\n",
       "      <td>0</td>\n",
       "      <td>0</td>\n",
       "      <td>0</td>\n",
       "      <td>0</td>\n",
       "      <td>0</td>\n",
       "      <td>0</td>\n",
       "    </tr>\n",
       "    <tr>\n",
       "      <th>1</th>\n",
       "      <td>Albert Park</td>\n",
       "      <td>0</td>\n",
       "      <td>0</td>\n",
       "      <td>0</td>\n",
       "      <td>0</td>\n",
       "      <td>0</td>\n",
       "      <td>0</td>\n",
       "      <td>0</td>\n",
       "      <td>0</td>\n",
       "      <td>0</td>\n",
       "      <td>...</td>\n",
       "      <td>0</td>\n",
       "      <td>0</td>\n",
       "      <td>0</td>\n",
       "      <td>0</td>\n",
       "      <td>0</td>\n",
       "      <td>0</td>\n",
       "      <td>0</td>\n",
       "      <td>0</td>\n",
       "      <td>0</td>\n",
       "      <td>0</td>\n",
       "    </tr>\n",
       "    <tr>\n",
       "      <th>2</th>\n",
       "      <td>Albert Park</td>\n",
       "      <td>0</td>\n",
       "      <td>0</td>\n",
       "      <td>0</td>\n",
       "      <td>0</td>\n",
       "      <td>0</td>\n",
       "      <td>0</td>\n",
       "      <td>0</td>\n",
       "      <td>0</td>\n",
       "      <td>0</td>\n",
       "      <td>...</td>\n",
       "      <td>0</td>\n",
       "      <td>0</td>\n",
       "      <td>0</td>\n",
       "      <td>0</td>\n",
       "      <td>0</td>\n",
       "      <td>0</td>\n",
       "      <td>0</td>\n",
       "      <td>0</td>\n",
       "      <td>0</td>\n",
       "      <td>0</td>\n",
       "    </tr>\n",
       "    <tr>\n",
       "      <th>3</th>\n",
       "      <td>Albert Park</td>\n",
       "      <td>0</td>\n",
       "      <td>0</td>\n",
       "      <td>0</td>\n",
       "      <td>0</td>\n",
       "      <td>0</td>\n",
       "      <td>0</td>\n",
       "      <td>0</td>\n",
       "      <td>0</td>\n",
       "      <td>0</td>\n",
       "      <td>...</td>\n",
       "      <td>0</td>\n",
       "      <td>0</td>\n",
       "      <td>0</td>\n",
       "      <td>0</td>\n",
       "      <td>0</td>\n",
       "      <td>0</td>\n",
       "      <td>0</td>\n",
       "      <td>0</td>\n",
       "      <td>0</td>\n",
       "      <td>0</td>\n",
       "    </tr>\n",
       "    <tr>\n",
       "      <th>4</th>\n",
       "      <td>Albert Park</td>\n",
       "      <td>0</td>\n",
       "      <td>0</td>\n",
       "      <td>0</td>\n",
       "      <td>0</td>\n",
       "      <td>0</td>\n",
       "      <td>0</td>\n",
       "      <td>0</td>\n",
       "      <td>0</td>\n",
       "      <td>0</td>\n",
       "      <td>...</td>\n",
       "      <td>0</td>\n",
       "      <td>0</td>\n",
       "      <td>0</td>\n",
       "      <td>0</td>\n",
       "      <td>0</td>\n",
       "      <td>0</td>\n",
       "      <td>0</td>\n",
       "      <td>0</td>\n",
       "      <td>0</td>\n",
       "      <td>0</td>\n",
       "    </tr>\n",
       "  </tbody>\n",
       "</table>\n",
       "<p>5 rows × 265 columns</p>\n",
       "</div>"
      ],
      "text/plain": [
       "  Neighborhood  Accessories Store  Afghan Restaurant  African Restaurant  \\\n",
       "0  Albert Park                  0                  0                   0   \n",
       "1  Albert Park                  0                  0                   0   \n",
       "2  Albert Park                  0                  0                   0   \n",
       "3  Albert Park                  0                  0                   0   \n",
       "4  Albert Park                  0                  0                   0   \n",
       "\n",
       "   American Restaurant  Antique Shop  Arcade  Argentinian Restaurant  \\\n",
       "0                    0             0       0                       0   \n",
       "1                    0             0       0                       0   \n",
       "2                    0             0       0                       0   \n",
       "3                    0             0       0                       0   \n",
       "4                    0             0       0                       0   \n",
       "\n",
       "   Art Gallery  Art Museum  ...  Whisky Bar  Wine Bar  Wine Shop  Wings Joint  \\\n",
       "0            0           0  ...           0         0          0            0   \n",
       "1            0           0  ...           0         0          0            0   \n",
       "2            0           0  ...           0         0          0            0   \n",
       "3            0           0  ...           0         0          0            0   \n",
       "4            0           0  ...           0         0          0            0   \n",
       "\n",
       "   Women's Store  Xinjiang Restaurant  Yoga Studio  Yunnan Restaurant  Zoo  \\\n",
       "0              0                    0            0                  0    0   \n",
       "1              0                    0            0                  0    0   \n",
       "2              0                    0            0                  0    0   \n",
       "3              0                    0            0                  0    0   \n",
       "4              0                    0            0                  0    0   \n",
       "\n",
       "   Zoo Exhibit  \n",
       "0            0  \n",
       "1            0  \n",
       "2            0  \n",
       "3            0  \n",
       "4            0  \n",
       "\n",
       "[5 rows x 265 columns]"
      ]
     },
     "execution_count": 36,
     "metadata": {},
     "output_type": "execute_result"
    }
   ],
   "source": [
    "# Start with one hot encoding\n",
    "target_onehot = pd.get_dummies(target_venues[['Venue Category']], prefix=\"\", prefix_sep=\"\")\n",
    "\n",
    "# add neighborhood column back to dataframe\n",
    "target_onehot['Neighborhood'] = target_venues['Neighborhood'] \n",
    "\n",
    "# move neighborhood column to the first column\n",
    "fixed_columns = [target_onehot.columns[-1]] + list(target_onehot.columns[:-1])\n",
    "target_onehot = target_onehot[fixed_columns]\n",
    "\n",
    "target_onehot.head()"
   ]
  },
  {
   "cell_type": "markdown",
   "metadata": {},
   "source": [
    "And let's examine the new dataframe size."
   ]
  },
  {
   "cell_type": "code",
   "execution_count": 37,
   "metadata": {
    "collapsed": false,
    "jupyter": {
     "outputs_hidden": false
    }
   },
   "outputs": [
    {
     "data": {
      "text/plain": [
       "(2612, 265)"
      ]
     },
     "execution_count": 37,
     "metadata": {},
     "output_type": "execute_result"
    }
   ],
   "source": [
    "target_onehot.shape"
   ]
  },
  {
   "cell_type": "markdown",
   "metadata": {},
   "source": [
    "#### Next, let's group rows by neighborhood and by taking the mean of the frequency of occurrence of each category"
   ]
  },
  {
   "cell_type": "code",
   "execution_count": 38,
   "metadata": {
    "collapsed": false,
    "jupyter": {
     "outputs_hidden": false
    }
   },
   "outputs": [
    {
     "data": {
      "text/html": [
       "<div>\n",
       "<style scoped>\n",
       "    .dataframe tbody tr th:only-of-type {\n",
       "        vertical-align: middle;\n",
       "    }\n",
       "\n",
       "    .dataframe tbody tr th {\n",
       "        vertical-align: top;\n",
       "    }\n",
       "\n",
       "    .dataframe thead th {\n",
       "        text-align: right;\n",
       "    }\n",
       "</style>\n",
       "<table border=\"1\" class=\"dataframe\">\n",
       "  <thead>\n",
       "    <tr style=\"text-align: right;\">\n",
       "      <th></th>\n",
       "      <th>Neighborhood</th>\n",
       "      <th>Accessories Store</th>\n",
       "      <th>Afghan Restaurant</th>\n",
       "      <th>African Restaurant</th>\n",
       "      <th>American Restaurant</th>\n",
       "      <th>Antique Shop</th>\n",
       "      <th>Arcade</th>\n",
       "      <th>Argentinian Restaurant</th>\n",
       "      <th>Art Gallery</th>\n",
       "      <th>Art Museum</th>\n",
       "      <th>...</th>\n",
       "      <th>Whisky Bar</th>\n",
       "      <th>Wine Bar</th>\n",
       "      <th>Wine Shop</th>\n",
       "      <th>Wings Joint</th>\n",
       "      <th>Women's Store</th>\n",
       "      <th>Xinjiang Restaurant</th>\n",
       "      <th>Yoga Studio</th>\n",
       "      <th>Yunnan Restaurant</th>\n",
       "      <th>Zoo</th>\n",
       "      <th>Zoo Exhibit</th>\n",
       "    </tr>\n",
       "  </thead>\n",
       "  <tbody>\n",
       "    <tr>\n",
       "      <th>0</th>\n",
       "      <td>Abbotsford</td>\n",
       "      <td>0.0</td>\n",
       "      <td>0.0</td>\n",
       "      <td>0.0</td>\n",
       "      <td>0.0</td>\n",
       "      <td>0.000000</td>\n",
       "      <td>0.0</td>\n",
       "      <td>0.0</td>\n",
       "      <td>0.0</td>\n",
       "      <td>0.0</td>\n",
       "      <td>...</td>\n",
       "      <td>0.0</td>\n",
       "      <td>0.000000</td>\n",
       "      <td>0.0</td>\n",
       "      <td>0.0</td>\n",
       "      <td>0.0</td>\n",
       "      <td>0.0</td>\n",
       "      <td>0.000000</td>\n",
       "      <td>0.0</td>\n",
       "      <td>0.0</td>\n",
       "      <td>0.0</td>\n",
       "    </tr>\n",
       "    <tr>\n",
       "      <th>1</th>\n",
       "      <td>Albert Park</td>\n",
       "      <td>0.0</td>\n",
       "      <td>0.0</td>\n",
       "      <td>0.0</td>\n",
       "      <td>0.0</td>\n",
       "      <td>0.000000</td>\n",
       "      <td>0.0</td>\n",
       "      <td>0.0</td>\n",
       "      <td>0.0</td>\n",
       "      <td>0.0</td>\n",
       "      <td>...</td>\n",
       "      <td>0.0</td>\n",
       "      <td>0.000000</td>\n",
       "      <td>0.0</td>\n",
       "      <td>0.0</td>\n",
       "      <td>0.0</td>\n",
       "      <td>0.0</td>\n",
       "      <td>0.000000</td>\n",
       "      <td>0.0</td>\n",
       "      <td>0.0</td>\n",
       "      <td>0.0</td>\n",
       "    </tr>\n",
       "    <tr>\n",
       "      <th>2</th>\n",
       "      <td>Alphington</td>\n",
       "      <td>0.0</td>\n",
       "      <td>0.0</td>\n",
       "      <td>0.0</td>\n",
       "      <td>0.0</td>\n",
       "      <td>0.000000</td>\n",
       "      <td>0.0</td>\n",
       "      <td>0.0</td>\n",
       "      <td>0.0</td>\n",
       "      <td>0.0</td>\n",
       "      <td>...</td>\n",
       "      <td>0.0</td>\n",
       "      <td>0.000000</td>\n",
       "      <td>0.0</td>\n",
       "      <td>0.0</td>\n",
       "      <td>0.0</td>\n",
       "      <td>0.0</td>\n",
       "      <td>0.000000</td>\n",
       "      <td>0.0</td>\n",
       "      <td>0.0</td>\n",
       "      <td>0.0</td>\n",
       "    </tr>\n",
       "    <tr>\n",
       "      <th>3</th>\n",
       "      <td>Altona</td>\n",
       "      <td>0.0</td>\n",
       "      <td>0.0</td>\n",
       "      <td>0.0</td>\n",
       "      <td>0.0</td>\n",
       "      <td>0.000000</td>\n",
       "      <td>0.0</td>\n",
       "      <td>0.0</td>\n",
       "      <td>0.0</td>\n",
       "      <td>0.0</td>\n",
       "      <td>...</td>\n",
       "      <td>0.0</td>\n",
       "      <td>0.000000</td>\n",
       "      <td>0.0</td>\n",
       "      <td>0.0</td>\n",
       "      <td>0.0</td>\n",
       "      <td>0.0</td>\n",
       "      <td>0.000000</td>\n",
       "      <td>0.0</td>\n",
       "      <td>0.0</td>\n",
       "      <td>0.0</td>\n",
       "    </tr>\n",
       "    <tr>\n",
       "      <th>4</th>\n",
       "      <td>Armadale</td>\n",
       "      <td>0.0</td>\n",
       "      <td>0.0</td>\n",
       "      <td>0.0</td>\n",
       "      <td>0.0</td>\n",
       "      <td>0.000000</td>\n",
       "      <td>0.0</td>\n",
       "      <td>0.0</td>\n",
       "      <td>0.0</td>\n",
       "      <td>0.0</td>\n",
       "      <td>...</td>\n",
       "      <td>0.0</td>\n",
       "      <td>0.000000</td>\n",
       "      <td>0.0</td>\n",
       "      <td>0.0</td>\n",
       "      <td>0.0</td>\n",
       "      <td>0.0</td>\n",
       "      <td>0.000000</td>\n",
       "      <td>0.0</td>\n",
       "      <td>0.0</td>\n",
       "      <td>0.0</td>\n",
       "    </tr>\n",
       "    <tr>\n",
       "      <th>...</th>\n",
       "      <td>...</td>\n",
       "      <td>...</td>\n",
       "      <td>...</td>\n",
       "      <td>...</td>\n",
       "      <td>...</td>\n",
       "      <td>...</td>\n",
       "      <td>...</td>\n",
       "      <td>...</td>\n",
       "      <td>...</td>\n",
       "      <td>...</td>\n",
       "      <td>...</td>\n",
       "      <td>...</td>\n",
       "      <td>...</td>\n",
       "      <td>...</td>\n",
       "      <td>...</td>\n",
       "      <td>...</td>\n",
       "      <td>...</td>\n",
       "      <td>...</td>\n",
       "      <td>...</td>\n",
       "      <td>...</td>\n",
       "      <td>...</td>\n",
       "    </tr>\n",
       "    <tr>\n",
       "      <th>143</th>\n",
       "      <td>West Melbourne</td>\n",
       "      <td>0.0</td>\n",
       "      <td>0.0</td>\n",
       "      <td>0.0</td>\n",
       "      <td>0.0</td>\n",
       "      <td>0.000000</td>\n",
       "      <td>0.0</td>\n",
       "      <td>0.0</td>\n",
       "      <td>0.0</td>\n",
       "      <td>0.0</td>\n",
       "      <td>...</td>\n",
       "      <td>0.0</td>\n",
       "      <td>0.000000</td>\n",
       "      <td>0.0</td>\n",
       "      <td>0.0</td>\n",
       "      <td>0.0</td>\n",
       "      <td>0.0</td>\n",
       "      <td>0.000000</td>\n",
       "      <td>0.0</td>\n",
       "      <td>0.0</td>\n",
       "      <td>0.0</td>\n",
       "    </tr>\n",
       "    <tr>\n",
       "      <th>144</th>\n",
       "      <td>West St Kilda</td>\n",
       "      <td>0.0</td>\n",
       "      <td>0.0</td>\n",
       "      <td>0.0</td>\n",
       "      <td>0.0</td>\n",
       "      <td>0.000000</td>\n",
       "      <td>0.0</td>\n",
       "      <td>0.0</td>\n",
       "      <td>0.0</td>\n",
       "      <td>0.0</td>\n",
       "      <td>...</td>\n",
       "      <td>0.0</td>\n",
       "      <td>0.027027</td>\n",
       "      <td>0.0</td>\n",
       "      <td>0.0</td>\n",
       "      <td>0.0</td>\n",
       "      <td>0.0</td>\n",
       "      <td>0.000000</td>\n",
       "      <td>0.0</td>\n",
       "      <td>0.0</td>\n",
       "      <td>0.0</td>\n",
       "    </tr>\n",
       "    <tr>\n",
       "      <th>145</th>\n",
       "      <td>Williamstown</td>\n",
       "      <td>0.0</td>\n",
       "      <td>0.0</td>\n",
       "      <td>0.0</td>\n",
       "      <td>0.0</td>\n",
       "      <td>0.000000</td>\n",
       "      <td>0.0</td>\n",
       "      <td>0.0</td>\n",
       "      <td>0.0</td>\n",
       "      <td>0.0</td>\n",
       "      <td>...</td>\n",
       "      <td>0.0</td>\n",
       "      <td>0.000000</td>\n",
       "      <td>0.0</td>\n",
       "      <td>0.0</td>\n",
       "      <td>0.0</td>\n",
       "      <td>0.0</td>\n",
       "      <td>0.000000</td>\n",
       "      <td>0.0</td>\n",
       "      <td>0.0</td>\n",
       "      <td>0.0</td>\n",
       "    </tr>\n",
       "    <tr>\n",
       "      <th>146</th>\n",
       "      <td>Windsor</td>\n",
       "      <td>0.0</td>\n",
       "      <td>0.0</td>\n",
       "      <td>0.0</td>\n",
       "      <td>0.0</td>\n",
       "      <td>0.013889</td>\n",
       "      <td>0.0</td>\n",
       "      <td>0.0</td>\n",
       "      <td>0.0</td>\n",
       "      <td>0.0</td>\n",
       "      <td>...</td>\n",
       "      <td>0.0</td>\n",
       "      <td>0.000000</td>\n",
       "      <td>0.0</td>\n",
       "      <td>0.0</td>\n",
       "      <td>0.0</td>\n",
       "      <td>0.0</td>\n",
       "      <td>0.027778</td>\n",
       "      <td>0.0</td>\n",
       "      <td>0.0</td>\n",
       "      <td>0.0</td>\n",
       "    </tr>\n",
       "    <tr>\n",
       "      <th>147</th>\n",
       "      <td>Yarraville</td>\n",
       "      <td>0.0</td>\n",
       "      <td>0.0</td>\n",
       "      <td>0.0</td>\n",
       "      <td>0.0</td>\n",
       "      <td>0.000000</td>\n",
       "      <td>0.0</td>\n",
       "      <td>0.0</td>\n",
       "      <td>0.0</td>\n",
       "      <td>0.0</td>\n",
       "      <td>...</td>\n",
       "      <td>0.0</td>\n",
       "      <td>0.000000</td>\n",
       "      <td>0.0</td>\n",
       "      <td>0.0</td>\n",
       "      <td>0.0</td>\n",
       "      <td>0.0</td>\n",
       "      <td>0.000000</td>\n",
       "      <td>0.0</td>\n",
       "      <td>0.0</td>\n",
       "      <td>0.0</td>\n",
       "    </tr>\n",
       "  </tbody>\n",
       "</table>\n",
       "<p>148 rows × 265 columns</p>\n",
       "</div>"
      ],
      "text/plain": [
       "       Neighborhood  Accessories Store  Afghan Restaurant  African Restaurant  \\\n",
       "0        Abbotsford                0.0                0.0                 0.0   \n",
       "1       Albert Park                0.0                0.0                 0.0   \n",
       "2        Alphington                0.0                0.0                 0.0   \n",
       "3            Altona                0.0                0.0                 0.0   \n",
       "4          Armadale                0.0                0.0                 0.0   \n",
       "..              ...                ...                ...                 ...   \n",
       "143  West Melbourne                0.0                0.0                 0.0   \n",
       "144   West St Kilda                0.0                0.0                 0.0   \n",
       "145    Williamstown                0.0                0.0                 0.0   \n",
       "146         Windsor                0.0                0.0                 0.0   \n",
       "147      Yarraville                0.0                0.0                 0.0   \n",
       "\n",
       "     American Restaurant  Antique Shop  Arcade  Argentinian Restaurant  \\\n",
       "0                    0.0      0.000000     0.0                     0.0   \n",
       "1                    0.0      0.000000     0.0                     0.0   \n",
       "2                    0.0      0.000000     0.0                     0.0   \n",
       "3                    0.0      0.000000     0.0                     0.0   \n",
       "4                    0.0      0.000000     0.0                     0.0   \n",
       "..                   ...           ...     ...                     ...   \n",
       "143                  0.0      0.000000     0.0                     0.0   \n",
       "144                  0.0      0.000000     0.0                     0.0   \n",
       "145                  0.0      0.000000     0.0                     0.0   \n",
       "146                  0.0      0.013889     0.0                     0.0   \n",
       "147                  0.0      0.000000     0.0                     0.0   \n",
       "\n",
       "     Art Gallery  Art Museum  ...  Whisky Bar  Wine Bar  Wine Shop  \\\n",
       "0            0.0         0.0  ...         0.0  0.000000        0.0   \n",
       "1            0.0         0.0  ...         0.0  0.000000        0.0   \n",
       "2            0.0         0.0  ...         0.0  0.000000        0.0   \n",
       "3            0.0         0.0  ...         0.0  0.000000        0.0   \n",
       "4            0.0         0.0  ...         0.0  0.000000        0.0   \n",
       "..           ...         ...  ...         ...       ...        ...   \n",
       "143          0.0         0.0  ...         0.0  0.000000        0.0   \n",
       "144          0.0         0.0  ...         0.0  0.027027        0.0   \n",
       "145          0.0         0.0  ...         0.0  0.000000        0.0   \n",
       "146          0.0         0.0  ...         0.0  0.000000        0.0   \n",
       "147          0.0         0.0  ...         0.0  0.000000        0.0   \n",
       "\n",
       "     Wings Joint  Women's Store  Xinjiang Restaurant  Yoga Studio  \\\n",
       "0            0.0            0.0                  0.0     0.000000   \n",
       "1            0.0            0.0                  0.0     0.000000   \n",
       "2            0.0            0.0                  0.0     0.000000   \n",
       "3            0.0            0.0                  0.0     0.000000   \n",
       "4            0.0            0.0                  0.0     0.000000   \n",
       "..           ...            ...                  ...          ...   \n",
       "143          0.0            0.0                  0.0     0.000000   \n",
       "144          0.0            0.0                  0.0     0.000000   \n",
       "145          0.0            0.0                  0.0     0.000000   \n",
       "146          0.0            0.0                  0.0     0.027778   \n",
       "147          0.0            0.0                  0.0     0.000000   \n",
       "\n",
       "     Yunnan Restaurant  Zoo  Zoo Exhibit  \n",
       "0                  0.0  0.0          0.0  \n",
       "1                  0.0  0.0          0.0  \n",
       "2                  0.0  0.0          0.0  \n",
       "3                  0.0  0.0          0.0  \n",
       "4                  0.0  0.0          0.0  \n",
       "..                 ...  ...          ...  \n",
       "143                0.0  0.0          0.0  \n",
       "144                0.0  0.0          0.0  \n",
       "145                0.0  0.0          0.0  \n",
       "146                0.0  0.0          0.0  \n",
       "147                0.0  0.0          0.0  \n",
       "\n",
       "[148 rows x 265 columns]"
      ]
     },
     "execution_count": 38,
     "metadata": {},
     "output_type": "execute_result"
    }
   ],
   "source": [
    "target_grouped = target_onehot.groupby('Neighborhood').mean().reset_index()\n",
    "target_grouped"
   ]
  },
  {
   "cell_type": "markdown",
   "metadata": {},
   "source": [
    "#### Combine with rent cost percentile"
   ]
  },
  {
   "cell_type": "code",
   "execution_count": 39,
   "metadata": {},
   "outputs": [
    {
     "data": {
      "text/html": [
       "<div>\n",
       "<style scoped>\n",
       "    .dataframe tbody tr th:only-of-type {\n",
       "        vertical-align: middle;\n",
       "    }\n",
       "\n",
       "    .dataframe tbody tr th {\n",
       "        vertical-align: top;\n",
       "    }\n",
       "\n",
       "    .dataframe thead th {\n",
       "        text-align: right;\n",
       "    }\n",
       "</style>\n",
       "<table border=\"1\" class=\"dataframe\">\n",
       "  <thead>\n",
       "    <tr style=\"text-align: right;\">\n",
       "      <th></th>\n",
       "      <th>Neighborhood</th>\n",
       "      <th>Accessories Store</th>\n",
       "      <th>Afghan Restaurant</th>\n",
       "      <th>African Restaurant</th>\n",
       "      <th>American Restaurant</th>\n",
       "      <th>Antique Shop</th>\n",
       "      <th>Arcade</th>\n",
       "      <th>Argentinian Restaurant</th>\n",
       "      <th>Art Gallery</th>\n",
       "      <th>Art Museum</th>\n",
       "      <th>...</th>\n",
       "      <th>Women's Store</th>\n",
       "      <th>Xinjiang Restaurant</th>\n",
       "      <th>Yoga Studio</th>\n",
       "      <th>Yunnan Restaurant</th>\n",
       "      <th>Zoo</th>\n",
       "      <th>Zoo Exhibit</th>\n",
       "      <th>Rent</th>\n",
       "      <th>Rent Percentile</th>\n",
       "      <th>Latitude</th>\n",
       "      <th>Longitude</th>\n",
       "    </tr>\n",
       "  </thead>\n",
       "  <tbody>\n",
       "    <tr>\n",
       "      <th>0</th>\n",
       "      <td>Abbotsford</td>\n",
       "      <td>0.0</td>\n",
       "      <td>0.0</td>\n",
       "      <td>0.0</td>\n",
       "      <td>0.0</td>\n",
       "      <td>0.0</td>\n",
       "      <td>0.0</td>\n",
       "      <td>0.0</td>\n",
       "      <td>0.0</td>\n",
       "      <td>0.0</td>\n",
       "      <td>...</td>\n",
       "      <td>0.0</td>\n",
       "      <td>0.0</td>\n",
       "      <td>0.0</td>\n",
       "      <td>0.0</td>\n",
       "      <td>0.0</td>\n",
       "      <td>0.0</td>\n",
       "      <td>2166.666667</td>\n",
       "      <td>45.714286</td>\n",
       "      <td>-37.804551</td>\n",
       "      <td>144.998854</td>\n",
       "    </tr>\n",
       "    <tr>\n",
       "      <th>1</th>\n",
       "      <td>Albert Park</td>\n",
       "      <td>0.0</td>\n",
       "      <td>0.0</td>\n",
       "      <td>0.0</td>\n",
       "      <td>0.0</td>\n",
       "      <td>0.0</td>\n",
       "      <td>0.0</td>\n",
       "      <td>0.0</td>\n",
       "      <td>0.0</td>\n",
       "      <td>0.0</td>\n",
       "      <td>...</td>\n",
       "      <td>0.0</td>\n",
       "      <td>0.0</td>\n",
       "      <td>0.0</td>\n",
       "      <td>0.0</td>\n",
       "      <td>0.0</td>\n",
       "      <td>0.0</td>\n",
       "      <td>2535.000000</td>\n",
       "      <td>70.000000</td>\n",
       "      <td>-37.847772</td>\n",
       "      <td>144.962008</td>\n",
       "    </tr>\n",
       "    <tr>\n",
       "      <th>2</th>\n",
       "      <td>Alphington</td>\n",
       "      <td>0.0</td>\n",
       "      <td>0.0</td>\n",
       "      <td>0.0</td>\n",
       "      <td>0.0</td>\n",
       "      <td>0.0</td>\n",
       "      <td>0.0</td>\n",
       "      <td>0.0</td>\n",
       "      <td>0.0</td>\n",
       "      <td>0.0</td>\n",
       "      <td>...</td>\n",
       "      <td>0.0</td>\n",
       "      <td>0.0</td>\n",
       "      <td>0.0</td>\n",
       "      <td>0.0</td>\n",
       "      <td>0.0</td>\n",
       "      <td>0.0</td>\n",
       "      <td>1993.333333</td>\n",
       "      <td>34.285714</td>\n",
       "      <td>-37.778395</td>\n",
       "      <td>145.031282</td>\n",
       "    </tr>\n",
       "    <tr>\n",
       "      <th>3</th>\n",
       "      <td>Altona</td>\n",
       "      <td>0.0</td>\n",
       "      <td>0.0</td>\n",
       "      <td>0.0</td>\n",
       "      <td>0.0</td>\n",
       "      <td>0.0</td>\n",
       "      <td>0.0</td>\n",
       "      <td>0.0</td>\n",
       "      <td>0.0</td>\n",
       "      <td>0.0</td>\n",
       "      <td>...</td>\n",
       "      <td>0.0</td>\n",
       "      <td>0.0</td>\n",
       "      <td>0.0</td>\n",
       "      <td>0.0</td>\n",
       "      <td>0.0</td>\n",
       "      <td>0.0</td>\n",
       "      <td>1733.333333</td>\n",
       "      <td>17.142857</td>\n",
       "      <td>-37.867206</td>\n",
       "      <td>144.830142</td>\n",
       "    </tr>\n",
       "    <tr>\n",
       "      <th>4</th>\n",
       "      <td>Armadale</td>\n",
       "      <td>0.0</td>\n",
       "      <td>0.0</td>\n",
       "      <td>0.0</td>\n",
       "      <td>0.0</td>\n",
       "      <td>0.0</td>\n",
       "      <td>0.0</td>\n",
       "      <td>0.0</td>\n",
       "      <td>0.0</td>\n",
       "      <td>0.0</td>\n",
       "      <td>...</td>\n",
       "      <td>0.0</td>\n",
       "      <td>0.0</td>\n",
       "      <td>0.0</td>\n",
       "      <td>0.0</td>\n",
       "      <td>0.0</td>\n",
       "      <td>0.0</td>\n",
       "      <td>2080.000000</td>\n",
       "      <td>40.000000</td>\n",
       "      <td>-37.856762</td>\n",
       "      <td>145.020691</td>\n",
       "    </tr>\n",
       "  </tbody>\n",
       "</table>\n",
       "<p>5 rows × 269 columns</p>\n",
       "</div>"
      ],
      "text/plain": [
       "  Neighborhood  Accessories Store  Afghan Restaurant  African Restaurant  \\\n",
       "0   Abbotsford                0.0                0.0                 0.0   \n",
       "1  Albert Park                0.0                0.0                 0.0   \n",
       "2   Alphington                0.0                0.0                 0.0   \n",
       "3       Altona                0.0                0.0                 0.0   \n",
       "4     Armadale                0.0                0.0                 0.0   \n",
       "\n",
       "   American Restaurant  Antique Shop  Arcade  Argentinian Restaurant  \\\n",
       "0                  0.0           0.0     0.0                     0.0   \n",
       "1                  0.0           0.0     0.0                     0.0   \n",
       "2                  0.0           0.0     0.0                     0.0   \n",
       "3                  0.0           0.0     0.0                     0.0   \n",
       "4                  0.0           0.0     0.0                     0.0   \n",
       "\n",
       "   Art Gallery  Art Museum  ...  Women's Store  Xinjiang Restaurant  \\\n",
       "0          0.0         0.0  ...            0.0                  0.0   \n",
       "1          0.0         0.0  ...            0.0                  0.0   \n",
       "2          0.0         0.0  ...            0.0                  0.0   \n",
       "3          0.0         0.0  ...            0.0                  0.0   \n",
       "4          0.0         0.0  ...            0.0                  0.0   \n",
       "\n",
       "   Yoga Studio  Yunnan Restaurant  Zoo  Zoo Exhibit         Rent  \\\n",
       "0          0.0                0.0  0.0          0.0  2166.666667   \n",
       "1          0.0                0.0  0.0          0.0  2535.000000   \n",
       "2          0.0                0.0  0.0          0.0  1993.333333   \n",
       "3          0.0                0.0  0.0          0.0  1733.333333   \n",
       "4          0.0                0.0  0.0          0.0  2080.000000   \n",
       "\n",
       "   Rent Percentile   Latitude   Longitude  \n",
       "0        45.714286 -37.804551  144.998854  \n",
       "1        70.000000 -37.847772  144.962008  \n",
       "2        34.285714 -37.778395  145.031282  \n",
       "3        17.142857 -37.867206  144.830142  \n",
       "4        40.000000 -37.856762  145.020691  \n",
       "\n",
       "[5 rows x 269 columns]"
      ]
     },
     "execution_count": 39,
     "metadata": {},
     "output_type": "execute_result"
    }
   ],
   "source": [
    "target_grouped_full = target_grouped.merge(target_rent_df, left_on='Neighborhood', right_on='Suburb')\n",
    "target_grouped_full.drop(columns=['Suburb'], inplace=True)\n",
    "target_grouped_full.head()"
   ]
  },
  {
   "cell_type": "markdown",
   "metadata": {},
   "source": [
    "#### Let's confirm the new size"
   ]
  },
  {
   "cell_type": "code",
   "execution_count": 40,
   "metadata": {
    "collapsed": false,
    "jupyter": {
     "outputs_hidden": false
    }
   },
   "outputs": [
    {
     "data": {
      "text/plain": [
       "(148, 265)"
      ]
     },
     "execution_count": 40,
     "metadata": {},
     "output_type": "execute_result"
    }
   ],
   "source": [
    "target_grouped.shape"
   ]
  },
  {
   "cell_type": "markdown",
   "metadata": {},
   "source": [
    "#### Let's put the top venues into a *pandas* dataframe"
   ]
  },
  {
   "cell_type": "markdown",
   "metadata": {},
   "source": [
    "Create the new dataframe and display the top 10 venues for each neighborhood."
   ]
  },
  {
   "cell_type": "code",
   "execution_count": 41,
   "metadata": {
    "collapsed": false,
    "jupyter": {
     "outputs_hidden": false
    }
   },
   "outputs": [
    {
     "data": {
      "text/html": [
       "<div>\n",
       "<style scoped>\n",
       "    .dataframe tbody tr th:only-of-type {\n",
       "        vertical-align: middle;\n",
       "    }\n",
       "\n",
       "    .dataframe tbody tr th {\n",
       "        vertical-align: top;\n",
       "    }\n",
       "\n",
       "    .dataframe thead th {\n",
       "        text-align: right;\n",
       "    }\n",
       "</style>\n",
       "<table border=\"1\" class=\"dataframe\">\n",
       "  <thead>\n",
       "    <tr style=\"text-align: right;\">\n",
       "      <th></th>\n",
       "      <th>Neighborhood</th>\n",
       "      <th>1st Most Common Venue</th>\n",
       "      <th>2nd Most Common Venue</th>\n",
       "      <th>3rd Most Common Venue</th>\n",
       "      <th>4th Most Common Venue</th>\n",
       "      <th>5th Most Common Venue</th>\n",
       "      <th>6th Most Common Venue</th>\n",
       "      <th>7th Most Common Venue</th>\n",
       "      <th>8th Most Common Venue</th>\n",
       "      <th>9th Most Common Venue</th>\n",
       "      <th>10th Most Common Venue</th>\n",
       "    </tr>\n",
       "  </thead>\n",
       "  <tbody>\n",
       "    <tr>\n",
       "      <th>0</th>\n",
       "      <td>Abbotsford</td>\n",
       "      <td>Pub</td>\n",
       "      <td>Café</td>\n",
       "      <td>Thrift / Vintage Store</td>\n",
       "      <td>Garden</td>\n",
       "      <td>Farmers Market</td>\n",
       "      <td>Vegetarian / Vegan Restaurant</td>\n",
       "      <td>Harbor / Marina</td>\n",
       "      <td>Coffee Shop</td>\n",
       "      <td>Japanese Restaurant</td>\n",
       "      <td>Furniture / Home Store</td>\n",
       "    </tr>\n",
       "    <tr>\n",
       "      <th>1</th>\n",
       "      <td>Albert Park</td>\n",
       "      <td>Café</td>\n",
       "      <td>Grocery Store</td>\n",
       "      <td>Indian Restaurant</td>\n",
       "      <td>Athletics &amp; Sports</td>\n",
       "      <td>Racetrack</td>\n",
       "      <td>Tennis Court</td>\n",
       "      <td>Thai Restaurant</td>\n",
       "      <td>Light Rail Station</td>\n",
       "      <td>Seafood Restaurant</td>\n",
       "      <td>Golf Course</td>\n",
       "    </tr>\n",
       "    <tr>\n",
       "      <th>2</th>\n",
       "      <td>Alphington</td>\n",
       "      <td>Park</td>\n",
       "      <td>Train Station</td>\n",
       "      <td>Convenience Store</td>\n",
       "      <td>Liquor Store</td>\n",
       "      <td>Thai Restaurant</td>\n",
       "      <td>Gym / Fitness Center</td>\n",
       "      <td>Farmers Market</td>\n",
       "      <td>Fast Food Restaurant</td>\n",
       "      <td>Filipino Restaurant</td>\n",
       "      <td>Falafel Restaurant</td>\n",
       "    </tr>\n",
       "    <tr>\n",
       "      <th>3</th>\n",
       "      <td>Altona</td>\n",
       "      <td>Bar</td>\n",
       "      <td>Café</td>\n",
       "      <td>Seafood Restaurant</td>\n",
       "      <td>Park</td>\n",
       "      <td>Burger Joint</td>\n",
       "      <td>Performing Arts Venue</td>\n",
       "      <td>Gym</td>\n",
       "      <td>Harbor / Marina</td>\n",
       "      <td>Fish &amp; Chips Shop</td>\n",
       "      <td>Pizza Place</td>\n",
       "    </tr>\n",
       "    <tr>\n",
       "      <th>4</th>\n",
       "      <td>Armadale</td>\n",
       "      <td>Café</td>\n",
       "      <td>Convenience Store</td>\n",
       "      <td>Breakfast Spot</td>\n",
       "      <td>Grocery Store</td>\n",
       "      <td>Pizza Place</td>\n",
       "      <td>Train Station</td>\n",
       "      <td>Diner</td>\n",
       "      <td>Farmers Market</td>\n",
       "      <td>Football Stadium</td>\n",
       "      <td>Food Truck</td>\n",
       "    </tr>\n",
       "  </tbody>\n",
       "</table>\n",
       "</div>"
      ],
      "text/plain": [
       "  Neighborhood 1st Most Common Venue 2nd Most Common Venue  \\\n",
       "0   Abbotsford                   Pub                  Café   \n",
       "1  Albert Park                  Café         Grocery Store   \n",
       "2   Alphington                  Park         Train Station   \n",
       "3       Altona                   Bar                  Café   \n",
       "4     Armadale                  Café     Convenience Store   \n",
       "\n",
       "    3rd Most Common Venue 4th Most Common Venue 5th Most Common Venue  \\\n",
       "0  Thrift / Vintage Store                Garden        Farmers Market   \n",
       "1       Indian Restaurant    Athletics & Sports             Racetrack   \n",
       "2       Convenience Store          Liquor Store       Thai Restaurant   \n",
       "3      Seafood Restaurant                  Park          Burger Joint   \n",
       "4          Breakfast Spot         Grocery Store           Pizza Place   \n",
       "\n",
       "           6th Most Common Venue 7th Most Common Venue 8th Most Common Venue  \\\n",
       "0  Vegetarian / Vegan Restaurant       Harbor / Marina           Coffee Shop   \n",
       "1                   Tennis Court       Thai Restaurant    Light Rail Station   \n",
       "2           Gym / Fitness Center        Farmers Market  Fast Food Restaurant   \n",
       "3          Performing Arts Venue                   Gym       Harbor / Marina   \n",
       "4                  Train Station                 Diner        Farmers Market   \n",
       "\n",
       "  9th Most Common Venue  10th Most Common Venue  \n",
       "0   Japanese Restaurant  Furniture / Home Store  \n",
       "1    Seafood Restaurant             Golf Course  \n",
       "2   Filipino Restaurant      Falafel Restaurant  \n",
       "3     Fish & Chips Shop             Pizza Place  \n",
       "4      Football Stadium              Food Truck  "
      ]
     },
     "execution_count": 41,
     "metadata": {},
     "output_type": "execute_result"
    }
   ],
   "source": [
    "num_top_venues = 10\n",
    "\n",
    "indicators = ['st', 'nd', 'rd']\n",
    "\n",
    "# create columns according to number of top venues\n",
    "columns = ['Neighborhood']\n",
    "for ind in np.arange(num_top_venues):\n",
    "    try:\n",
    "        columns.append('{}{} Most Common Venue'.format(ind+1, indicators[ind]))\n",
    "    except:\n",
    "        columns.append('{}th Most Common Venue'.format(ind+1))\n",
    "\n",
    "# create a new dataframe\n",
    "target_venues_sorted = pd.DataFrame(columns=columns)\n",
    "target_venues_sorted['Neighborhood'] = target_grouped['Neighborhood']\n",
    "\n",
    "for ind in np.arange(target_grouped.shape[0]):\n",
    "    target_venues_sorted.iloc[ind, 1:] = return_most_common_venues(target_grouped.iloc[ind, :], num_top_venues)\n",
    "\n",
    "target_venues_sorted.head()"
   ]
  },
  {
   "cell_type": "markdown",
   "metadata": {},
   "source": [
    "#### Combine with rent cost percentile"
   ]
  },
  {
   "cell_type": "code",
   "execution_count": 42,
   "metadata": {},
   "outputs": [
    {
     "data": {
      "text/html": [
       "<div>\n",
       "<style scoped>\n",
       "    .dataframe tbody tr th:only-of-type {\n",
       "        vertical-align: middle;\n",
       "    }\n",
       "\n",
       "    .dataframe tbody tr th {\n",
       "        vertical-align: top;\n",
       "    }\n",
       "\n",
       "    .dataframe thead th {\n",
       "        text-align: right;\n",
       "    }\n",
       "</style>\n",
       "<table border=\"1\" class=\"dataframe\">\n",
       "  <thead>\n",
       "    <tr style=\"text-align: right;\">\n",
       "      <th></th>\n",
       "      <th>Neighborhood</th>\n",
       "      <th>1st Most Common Venue</th>\n",
       "      <th>2nd Most Common Venue</th>\n",
       "      <th>3rd Most Common Venue</th>\n",
       "      <th>4th Most Common Venue</th>\n",
       "      <th>5th Most Common Venue</th>\n",
       "      <th>6th Most Common Venue</th>\n",
       "      <th>7th Most Common Venue</th>\n",
       "      <th>8th Most Common Venue</th>\n",
       "      <th>9th Most Common Venue</th>\n",
       "      <th>10th Most Common Venue</th>\n",
       "      <th>Rent</th>\n",
       "      <th>Rent Percentile</th>\n",
       "      <th>Latitude</th>\n",
       "      <th>Longitude</th>\n",
       "    </tr>\n",
       "  </thead>\n",
       "  <tbody>\n",
       "    <tr>\n",
       "      <th>0</th>\n",
       "      <td>Abbotsford</td>\n",
       "      <td>Pub</td>\n",
       "      <td>Café</td>\n",
       "      <td>Thrift / Vintage Store</td>\n",
       "      <td>Garden</td>\n",
       "      <td>Farmers Market</td>\n",
       "      <td>Vegetarian / Vegan Restaurant</td>\n",
       "      <td>Harbor / Marina</td>\n",
       "      <td>Coffee Shop</td>\n",
       "      <td>Japanese Restaurant</td>\n",
       "      <td>Furniture / Home Store</td>\n",
       "      <td>2166.666667</td>\n",
       "      <td>45.714286</td>\n",
       "      <td>-37.804551</td>\n",
       "      <td>144.998854</td>\n",
       "    </tr>\n",
       "    <tr>\n",
       "      <th>1</th>\n",
       "      <td>Albert Park</td>\n",
       "      <td>Café</td>\n",
       "      <td>Grocery Store</td>\n",
       "      <td>Indian Restaurant</td>\n",
       "      <td>Athletics &amp; Sports</td>\n",
       "      <td>Racetrack</td>\n",
       "      <td>Tennis Court</td>\n",
       "      <td>Thai Restaurant</td>\n",
       "      <td>Light Rail Station</td>\n",
       "      <td>Seafood Restaurant</td>\n",
       "      <td>Golf Course</td>\n",
       "      <td>2535.000000</td>\n",
       "      <td>70.000000</td>\n",
       "      <td>-37.847772</td>\n",
       "      <td>144.962008</td>\n",
       "    </tr>\n",
       "    <tr>\n",
       "      <th>2</th>\n",
       "      <td>Alphington</td>\n",
       "      <td>Park</td>\n",
       "      <td>Train Station</td>\n",
       "      <td>Convenience Store</td>\n",
       "      <td>Liquor Store</td>\n",
       "      <td>Thai Restaurant</td>\n",
       "      <td>Gym / Fitness Center</td>\n",
       "      <td>Farmers Market</td>\n",
       "      <td>Fast Food Restaurant</td>\n",
       "      <td>Filipino Restaurant</td>\n",
       "      <td>Falafel Restaurant</td>\n",
       "      <td>1993.333333</td>\n",
       "      <td>34.285714</td>\n",
       "      <td>-37.778395</td>\n",
       "      <td>145.031282</td>\n",
       "    </tr>\n",
       "    <tr>\n",
       "      <th>3</th>\n",
       "      <td>Altona</td>\n",
       "      <td>Bar</td>\n",
       "      <td>Café</td>\n",
       "      <td>Seafood Restaurant</td>\n",
       "      <td>Park</td>\n",
       "      <td>Burger Joint</td>\n",
       "      <td>Performing Arts Venue</td>\n",
       "      <td>Gym</td>\n",
       "      <td>Harbor / Marina</td>\n",
       "      <td>Fish &amp; Chips Shop</td>\n",
       "      <td>Pizza Place</td>\n",
       "      <td>1733.333333</td>\n",
       "      <td>17.142857</td>\n",
       "      <td>-37.867206</td>\n",
       "      <td>144.830142</td>\n",
       "    </tr>\n",
       "    <tr>\n",
       "      <th>4</th>\n",
       "      <td>Armadale</td>\n",
       "      <td>Café</td>\n",
       "      <td>Convenience Store</td>\n",
       "      <td>Breakfast Spot</td>\n",
       "      <td>Grocery Store</td>\n",
       "      <td>Pizza Place</td>\n",
       "      <td>Train Station</td>\n",
       "      <td>Diner</td>\n",
       "      <td>Farmers Market</td>\n",
       "      <td>Football Stadium</td>\n",
       "      <td>Food Truck</td>\n",
       "      <td>2080.000000</td>\n",
       "      <td>40.000000</td>\n",
       "      <td>-37.856762</td>\n",
       "      <td>145.020691</td>\n",
       "    </tr>\n",
       "  </tbody>\n",
       "</table>\n",
       "</div>"
      ],
      "text/plain": [
       "  Neighborhood 1st Most Common Venue 2nd Most Common Venue  \\\n",
       "0   Abbotsford                   Pub                  Café   \n",
       "1  Albert Park                  Café         Grocery Store   \n",
       "2   Alphington                  Park         Train Station   \n",
       "3       Altona                   Bar                  Café   \n",
       "4     Armadale                  Café     Convenience Store   \n",
       "\n",
       "    3rd Most Common Venue 4th Most Common Venue 5th Most Common Venue  \\\n",
       "0  Thrift / Vintage Store                Garden        Farmers Market   \n",
       "1       Indian Restaurant    Athletics & Sports             Racetrack   \n",
       "2       Convenience Store          Liquor Store       Thai Restaurant   \n",
       "3      Seafood Restaurant                  Park          Burger Joint   \n",
       "4          Breakfast Spot         Grocery Store           Pizza Place   \n",
       "\n",
       "           6th Most Common Venue 7th Most Common Venue 8th Most Common Venue  \\\n",
       "0  Vegetarian / Vegan Restaurant       Harbor / Marina           Coffee Shop   \n",
       "1                   Tennis Court       Thai Restaurant    Light Rail Station   \n",
       "2           Gym / Fitness Center        Farmers Market  Fast Food Restaurant   \n",
       "3          Performing Arts Venue                   Gym       Harbor / Marina   \n",
       "4                  Train Station                 Diner        Farmers Market   \n",
       "\n",
       "  9th Most Common Venue  10th Most Common Venue         Rent  Rent Percentile  \\\n",
       "0   Japanese Restaurant  Furniture / Home Store  2166.666667        45.714286   \n",
       "1    Seafood Restaurant             Golf Course  2535.000000        70.000000   \n",
       "2   Filipino Restaurant      Falafel Restaurant  1993.333333        34.285714   \n",
       "3     Fish & Chips Shop             Pizza Place  1733.333333        17.142857   \n",
       "4      Football Stadium              Food Truck  2080.000000        40.000000   \n",
       "\n",
       "    Latitude   Longitude  \n",
       "0 -37.804551  144.998854  \n",
       "1 -37.847772  144.962008  \n",
       "2 -37.778395  145.031282  \n",
       "3 -37.867206  144.830142  \n",
       "4 -37.856762  145.020691  "
      ]
     },
     "execution_count": 42,
     "metadata": {},
     "output_type": "execute_result"
    }
   ],
   "source": [
    "target_venues_sorted = target_venues_sorted.merge(target_rent_df, left_on='Neighborhood', right_on='Suburb')\n",
    "target_venues_sorted.drop(columns=['Suburb'], inplace=True)\n",
    "target_venues_sorted.head()"
   ]
  },
  {
   "cell_type": "markdown",
   "metadata": {},
   "source": [
    "Awesome, so that's the end of the target city data. Now we can proceed to do a comparison and recommendation."
   ]
  },
  {
   "cell_type": "markdown",
   "metadata": {},
   "source": [
    "# Suburb Recommendation\n",
    "We want to use the venue and rent percentile data for the source suburb to recommend the best suburbs in the target city that are closer to the source suburb (if there are more than 5 in the recommended cluster, it'll be the closest 5 in rent percentile). To do this, I'll culster the suburbs in the target city by similarity using k-means. Then I'll use the built model to estimate what cluster the source suburb could belong to. The answer will be the closest suburbs."
   ]
  },
  {
   "cell_type": "markdown",
   "metadata": {},
   "source": [
    "#### Cluster Neighborhoods"
   ]
  },
  {
   "cell_type": "markdown",
   "metadata": {},
   "source": [
    "Run *k*-means to cluster the suburbs. One thing to considers is that venues that are in the source suburb may not be in the target city suburbs, and viceversa. Therefore, we can only use the intersection of these features for the clustering and estimation."
   ]
  },
  {
   "cell_type": "code",
   "execution_count": 43,
   "metadata": {},
   "outputs": [
    {
     "name": "stdout",
     "output_type": "stream",
     "text": [
      "Index(['Neighborhood', 'Argentinian Restaurant', 'Arts & Crafts Store',\n",
      "       'Asian Restaurant', 'Café', 'Clothing Store', 'Coffee Shop',\n",
      "       'Convenience Store', 'Cosmetics Shop', 'Dance Studio', 'Deli / Bodega',\n",
      "       'Department Store', 'Dessert Shop', 'Dive Bar', 'Food & Drink Shop',\n",
      "       'Food Truck', 'French Restaurant', 'Furniture / Home Store', 'Garden',\n",
      "       'Gym', 'Gym / Fitness Center', 'Hotel', 'Ice Cream Shop',\n",
      "       'Italian Restaurant', 'Japanese Restaurant',\n",
      "       'Latin American Restaurant', 'Mediterranean Restaurant',\n",
      "       'Mexican Restaurant', 'Music Venue', 'Nightclub', 'Pharmacy',\n",
      "       'Restaurant', 'Shopping Mall', 'Snack Place', 'Spa', 'Supermarket',\n",
      "       'Sushi Restaurant', 'Taco Place', 'Tea Room', 'Toy / Game Store',\n",
      "       'Wings Joint', 'Yoga Studio', 'Rent', 'Rent Percentile'],\n",
      "      dtype='object')\n"
     ]
    }
   ],
   "source": [
    "print(target_grouped_full.columns.intersection(source_grouped_full.columns))"
   ]
  },
  {
   "cell_type": "code",
   "execution_count": 44,
   "metadata": {},
   "outputs": [
    {
     "name": "stderr",
     "output_type": "stream",
     "text": [
      "C:\\Users\\ricardog\\AppData\\Local\\Continuum\\anaconda3\\lib\\site-packages\\pandas\\core\\frame.py:3997: SettingWithCopyWarning: \n",
      "A value is trying to be set on a copy of a slice from a DataFrame\n",
      "\n",
      "See the caveats in the documentation: https://pandas.pydata.org/pandas-docs/stable/user_guide/indexing.html#returning-a-view-versus-a-copy\n",
      "  errors=errors,\n"
     ]
    },
    {
     "data": {
      "text/plain": [
       "{0: 4,\n",
       " 1: 12,\n",
       " 2: 13,\n",
       " 3: 5,\n",
       " 4: 8,\n",
       " 5: 2,\n",
       " 6: 11,\n",
       " 7: 18,\n",
       " 8: 3,\n",
       " 9: 6,\n",
       " 10: 3,\n",
       " 11: 15,\n",
       " 12: 17,\n",
       " 13: 1,\n",
       " 14: 7,\n",
       " 15: 8,\n",
       " 16: 4,\n",
       " 17: 4,\n",
       " 18: 5,\n",
       " 19: 2}"
      ]
     },
     "execution_count": 44,
     "metadata": {},
     "output_type": "execute_result"
    }
   ],
   "source": [
    "# set number of clusters\n",
    "kclusters = 20\n",
    "krand = 0\n",
    "\n",
    "# Only use the intersection of features for training and estimation\n",
    "target_grouped_clustering = target_grouped_full[target_grouped_full.columns.intersection(source_grouped_full.columns)]\n",
    "target_grouped_clustering.drop(columns=['Neighborhood', 'Rent'], inplace=True) # Get rid of the neighborhood and rent since they are not relevant (using percentile)\n",
    "\n",
    "# run k-means clustering\n",
    "kmeans = KMeans(n_clusters=kclusters, random_state=krand).fit(target_grouped_clustering)\n",
    "#kmeans = KMeans(n_clusters=kclusters).fit(target_grouped_clustering)\n",
    "\n",
    "# check cluster labels generated for each row in the dataframe\n",
    "unique, counts = np.unique(kmeans.labels_, return_counts=True)\n",
    "dict(zip(unique, counts))"
   ]
  },
  {
   "cell_type": "markdown",
   "metadata": {},
   "source": [
    "After trying different cluster numbers, 20 clusters achieves the best distribution."
   ]
  },
  {
   "cell_type": "markdown",
   "metadata": {},
   "source": [
    "Add clusters to the target city venues so we can pick the recommended ones."
   ]
  },
  {
   "cell_type": "code",
   "execution_count": 45,
   "metadata": {
    "collapsed": false,
    "jupyter": {
     "outputs_hidden": false
    }
   },
   "outputs": [
    {
     "data": {
      "text/html": [
       "<div>\n",
       "<style scoped>\n",
       "    .dataframe tbody tr th:only-of-type {\n",
       "        vertical-align: middle;\n",
       "    }\n",
       "\n",
       "    .dataframe tbody tr th {\n",
       "        vertical-align: top;\n",
       "    }\n",
       "\n",
       "    .dataframe thead th {\n",
       "        text-align: right;\n",
       "    }\n",
       "</style>\n",
       "<table border=\"1\" class=\"dataframe\">\n",
       "  <thead>\n",
       "    <tr style=\"text-align: right;\">\n",
       "      <th></th>\n",
       "      <th>Cluster Labels</th>\n",
       "      <th>Neighborhood</th>\n",
       "      <th>1st Most Common Venue</th>\n",
       "      <th>2nd Most Common Venue</th>\n",
       "      <th>3rd Most Common Venue</th>\n",
       "      <th>4th Most Common Venue</th>\n",
       "      <th>5th Most Common Venue</th>\n",
       "      <th>6th Most Common Venue</th>\n",
       "      <th>7th Most Common Venue</th>\n",
       "      <th>8th Most Common Venue</th>\n",
       "      <th>9th Most Common Venue</th>\n",
       "      <th>10th Most Common Venue</th>\n",
       "      <th>Rent</th>\n",
       "      <th>Rent Percentile</th>\n",
       "      <th>Latitude</th>\n",
       "      <th>Longitude</th>\n",
       "    </tr>\n",
       "  </thead>\n",
       "  <tbody>\n",
       "    <tr>\n",
       "      <th>0</th>\n",
       "      <td>7</td>\n",
       "      <td>Abbotsford</td>\n",
       "      <td>Pub</td>\n",
       "      <td>Café</td>\n",
       "      <td>Thrift / Vintage Store</td>\n",
       "      <td>Garden</td>\n",
       "      <td>Farmers Market</td>\n",
       "      <td>Vegetarian / Vegan Restaurant</td>\n",
       "      <td>Harbor / Marina</td>\n",
       "      <td>Coffee Shop</td>\n",
       "      <td>Japanese Restaurant</td>\n",
       "      <td>Furniture / Home Store</td>\n",
       "      <td>2166.666667</td>\n",
       "      <td>45.714286</td>\n",
       "      <td>-37.804551</td>\n",
       "      <td>144.998854</td>\n",
       "    </tr>\n",
       "    <tr>\n",
       "      <th>1</th>\n",
       "      <td>0</td>\n",
       "      <td>Albert Park</td>\n",
       "      <td>Café</td>\n",
       "      <td>Grocery Store</td>\n",
       "      <td>Indian Restaurant</td>\n",
       "      <td>Athletics &amp; Sports</td>\n",
       "      <td>Racetrack</td>\n",
       "      <td>Tennis Court</td>\n",
       "      <td>Thai Restaurant</td>\n",
       "      <td>Light Rail Station</td>\n",
       "      <td>Seafood Restaurant</td>\n",
       "      <td>Golf Course</td>\n",
       "      <td>2535.000000</td>\n",
       "      <td>70.000000</td>\n",
       "      <td>-37.847772</td>\n",
       "      <td>144.962008</td>\n",
       "    </tr>\n",
       "    <tr>\n",
       "      <th>2</th>\n",
       "      <td>2</td>\n",
       "      <td>Alphington</td>\n",
       "      <td>Park</td>\n",
       "      <td>Train Station</td>\n",
       "      <td>Convenience Store</td>\n",
       "      <td>Liquor Store</td>\n",
       "      <td>Thai Restaurant</td>\n",
       "      <td>Gym / Fitness Center</td>\n",
       "      <td>Farmers Market</td>\n",
       "      <td>Fast Food Restaurant</td>\n",
       "      <td>Filipino Restaurant</td>\n",
       "      <td>Falafel Restaurant</td>\n",
       "      <td>1993.333333</td>\n",
       "      <td>34.285714</td>\n",
       "      <td>-37.778395</td>\n",
       "      <td>145.031282</td>\n",
       "    </tr>\n",
       "    <tr>\n",
       "      <th>3</th>\n",
       "      <td>1</td>\n",
       "      <td>Altona</td>\n",
       "      <td>Bar</td>\n",
       "      <td>Café</td>\n",
       "      <td>Seafood Restaurant</td>\n",
       "      <td>Park</td>\n",
       "      <td>Burger Joint</td>\n",
       "      <td>Performing Arts Venue</td>\n",
       "      <td>Gym</td>\n",
       "      <td>Harbor / Marina</td>\n",
       "      <td>Fish &amp; Chips Shop</td>\n",
       "      <td>Pizza Place</td>\n",
       "      <td>1733.333333</td>\n",
       "      <td>17.142857</td>\n",
       "      <td>-37.867206</td>\n",
       "      <td>144.830142</td>\n",
       "    </tr>\n",
       "    <tr>\n",
       "      <th>4</th>\n",
       "      <td>16</td>\n",
       "      <td>Armadale</td>\n",
       "      <td>Café</td>\n",
       "      <td>Convenience Store</td>\n",
       "      <td>Breakfast Spot</td>\n",
       "      <td>Grocery Store</td>\n",
       "      <td>Pizza Place</td>\n",
       "      <td>Train Station</td>\n",
       "      <td>Diner</td>\n",
       "      <td>Farmers Market</td>\n",
       "      <td>Football Stadium</td>\n",
       "      <td>Food Truck</td>\n",
       "      <td>2080.000000</td>\n",
       "      <td>40.000000</td>\n",
       "      <td>-37.856762</td>\n",
       "      <td>145.020691</td>\n",
       "    </tr>\n",
       "  </tbody>\n",
       "</table>\n",
       "</div>"
      ],
      "text/plain": [
       "   Cluster Labels Neighborhood 1st Most Common Venue 2nd Most Common Venue  \\\n",
       "0               7   Abbotsford                   Pub                  Café   \n",
       "1               0  Albert Park                  Café         Grocery Store   \n",
       "2               2   Alphington                  Park         Train Station   \n",
       "3               1       Altona                   Bar                  Café   \n",
       "4              16     Armadale                  Café     Convenience Store   \n",
       "\n",
       "    3rd Most Common Venue 4th Most Common Venue 5th Most Common Venue  \\\n",
       "0  Thrift / Vintage Store                Garden        Farmers Market   \n",
       "1       Indian Restaurant    Athletics & Sports             Racetrack   \n",
       "2       Convenience Store          Liquor Store       Thai Restaurant   \n",
       "3      Seafood Restaurant                  Park          Burger Joint   \n",
       "4          Breakfast Spot         Grocery Store           Pizza Place   \n",
       "\n",
       "           6th Most Common Venue 7th Most Common Venue 8th Most Common Venue  \\\n",
       "0  Vegetarian / Vegan Restaurant       Harbor / Marina           Coffee Shop   \n",
       "1                   Tennis Court       Thai Restaurant    Light Rail Station   \n",
       "2           Gym / Fitness Center        Farmers Market  Fast Food Restaurant   \n",
       "3          Performing Arts Venue                   Gym       Harbor / Marina   \n",
       "4                  Train Station                 Diner        Farmers Market   \n",
       "\n",
       "  9th Most Common Venue  10th Most Common Venue         Rent  Rent Percentile  \\\n",
       "0   Japanese Restaurant  Furniture / Home Store  2166.666667        45.714286   \n",
       "1    Seafood Restaurant             Golf Course  2535.000000        70.000000   \n",
       "2   Filipino Restaurant      Falafel Restaurant  1993.333333        34.285714   \n",
       "3     Fish & Chips Shop             Pizza Place  1733.333333        17.142857   \n",
       "4      Football Stadium              Food Truck  2080.000000        40.000000   \n",
       "\n",
       "    Latitude   Longitude  \n",
       "0 -37.804551  144.998854  \n",
       "1 -37.847772  144.962008  \n",
       "2 -37.778395  145.031282  \n",
       "3 -37.867206  144.830142  \n",
       "4 -37.856762  145.020691  "
      ]
     },
     "execution_count": 45,
     "metadata": {},
     "output_type": "execute_result"
    }
   ],
   "source": [
    "# add clustering labels to target venues\n",
    "#target_venues_sorted.drop(columns=['Cluster Labels'], inplace=True)\n",
    "target_venues_sorted.insert(0, 'Cluster Labels', kmeans.labels_)\n",
    "target_venues_sorted.head() # check the last columns!"
   ]
  },
  {
   "cell_type": "markdown",
   "metadata": {},
   "source": [
    "Let's check whether all neighbourhoods have been properly clustered."
   ]
  },
  {
   "cell_type": "code",
   "execution_count": 46,
   "metadata": {},
   "outputs": [
    {
     "name": "stdout",
     "output_type": "stream",
     "text": [
      "There are 0 neighbourhoods without results.\n"
     ]
    }
   ],
   "source": [
    "print('There are {} neighbourhoods without results.'.format(target_venues_sorted['Cluster Labels'].isnull().sum()))"
   ]
  },
  {
   "cell_type": "markdown",
   "metadata": {},
   "source": [
    "Looks good!"
   ]
  },
  {
   "cell_type": "markdown",
   "metadata": {},
   "source": [
    "## Recommendation\n",
    "Now we want to predict what cluster does the source suburb belong to in the target city.  \n",
    "First, we need to slect the intersection of features."
   ]
  },
  {
   "cell_type": "code",
   "execution_count": 47,
   "metadata": {},
   "outputs": [
    {
     "name": "stderr",
     "output_type": "stream",
     "text": [
      "C:\\Users\\ricardog\\AppData\\Local\\Continuum\\anaconda3\\lib\\site-packages\\pandas\\core\\frame.py:3997: SettingWithCopyWarning: \n",
      "A value is trying to be set on a copy of a slice from a DataFrame\n",
      "\n",
      "See the caveats in the documentation: https://pandas.pydata.org/pandas-docs/stable/user_guide/indexing.html#returning-a-view-versus-a-copy\n",
      "  errors=errors,\n"
     ]
    }
   ],
   "source": [
    "source_grouped_clustering = source_grouped_full[source_grouped_full.columns.intersection(target_grouped_full.columns)]\n",
    "source_grouped_clustering.drop(columns=['Neighborhood', 'Rent'], inplace=True) # Get rid of the neighborhood and rent since they are not relevant (using percentile)"
   ]
  },
  {
   "cell_type": "markdown",
   "metadata": {},
   "source": [
    "### K Means\n",
    "Use kmeans to predict the source suburb cluster."
   ]
  },
  {
   "cell_type": "code",
   "execution_count": 48,
   "metadata": {},
   "outputs": [
    {
     "name": "stdout",
     "output_type": "stream",
     "text": [
      "The source suburb, providencia, belongs to cluster [16].\n"
     ]
    }
   ],
   "source": [
    "source_cluster = kmeans.predict(source_grouped_clustering)\n",
    "print(\"The source suburb, {}, belongs to cluster {}.\".format(source_suburb, source_cluster))"
   ]
  },
  {
   "cell_type": "markdown",
   "metadata": {},
   "source": [
    "Now we need to extract the target suburbs that belong to the cluster."
   ]
  },
  {
   "cell_type": "code",
   "execution_count": 49,
   "metadata": {},
   "outputs": [
    {
     "data": {
      "text/html": [
       "<div>\n",
       "<style scoped>\n",
       "    .dataframe tbody tr th:only-of-type {\n",
       "        vertical-align: middle;\n",
       "    }\n",
       "\n",
       "    .dataframe tbody tr th {\n",
       "        vertical-align: top;\n",
       "    }\n",
       "\n",
       "    .dataframe thead th {\n",
       "        text-align: right;\n",
       "    }\n",
       "</style>\n",
       "<table border=\"1\" class=\"dataframe\">\n",
       "  <thead>\n",
       "    <tr style=\"text-align: right;\">\n",
       "      <th></th>\n",
       "      <th>Cluster Labels</th>\n",
       "      <th>Neighborhood</th>\n",
       "      <th>1st Most Common Venue</th>\n",
       "      <th>2nd Most Common Venue</th>\n",
       "      <th>3rd Most Common Venue</th>\n",
       "      <th>4th Most Common Venue</th>\n",
       "      <th>5th Most Common Venue</th>\n",
       "      <th>6th Most Common Venue</th>\n",
       "      <th>7th Most Common Venue</th>\n",
       "      <th>8th Most Common Venue</th>\n",
       "      <th>9th Most Common Venue</th>\n",
       "      <th>10th Most Common Venue</th>\n",
       "      <th>Rent</th>\n",
       "      <th>Rent Percentile</th>\n",
       "      <th>Latitude</th>\n",
       "      <th>Longitude</th>\n",
       "    </tr>\n",
       "  </thead>\n",
       "  <tbody>\n",
       "    <tr>\n",
       "      <th>4</th>\n",
       "      <td>16</td>\n",
       "      <td>Armadale</td>\n",
       "      <td>Café</td>\n",
       "      <td>Convenience Store</td>\n",
       "      <td>Breakfast Spot</td>\n",
       "      <td>Grocery Store</td>\n",
       "      <td>Pizza Place</td>\n",
       "      <td>Train Station</td>\n",
       "      <td>Diner</td>\n",
       "      <td>Farmers Market</td>\n",
       "      <td>Football Stadium</td>\n",
       "      <td>Food Truck</td>\n",
       "      <td>2080.000000</td>\n",
       "      <td>40.000000</td>\n",
       "      <td>-37.856762</td>\n",
       "      <td>145.020691</td>\n",
       "    </tr>\n",
       "    <tr>\n",
       "      <th>20</th>\n",
       "      <td>16</td>\n",
       "      <td>Brunswick</td>\n",
       "      <td>Café</td>\n",
       "      <td>Bar</td>\n",
       "      <td>Grocery Store</td>\n",
       "      <td>Pizza Place</td>\n",
       "      <td>Lebanese Restaurant</td>\n",
       "      <td>Supermarket</td>\n",
       "      <td>Thrift / Vintage Store</td>\n",
       "      <td>Dessert Shop</td>\n",
       "      <td>Thai Restaurant</td>\n",
       "      <td>Gastropub</td>\n",
       "      <td>2036.666667</td>\n",
       "      <td>37.142857</td>\n",
       "      <td>-37.766472</td>\n",
       "      <td>144.961310</td>\n",
       "    </tr>\n",
       "    <tr>\n",
       "      <th>32</th>\n",
       "      <td>16</td>\n",
       "      <td>Caulfield</td>\n",
       "      <td>Café</td>\n",
       "      <td>Grocery Store</td>\n",
       "      <td>Gym</td>\n",
       "      <td>Falafel Restaurant</td>\n",
       "      <td>Pizza Place</td>\n",
       "      <td>Convenience Store</td>\n",
       "      <td>Fast Food Restaurant</td>\n",
       "      <td>Filipino Restaurant</td>\n",
       "      <td>Farmers Market</td>\n",
       "      <td>Fish &amp; Chips Shop</td>\n",
       "      <td>2058.333333</td>\n",
       "      <td>38.571429</td>\n",
       "      <td>-37.882265</td>\n",
       "      <td>145.022463</td>\n",
       "    </tr>\n",
       "    <tr>\n",
       "      <th>35</th>\n",
       "      <td>16</td>\n",
       "      <td>Cheltenham</td>\n",
       "      <td>Café</td>\n",
       "      <td>Bakery</td>\n",
       "      <td>Coffee Shop</td>\n",
       "      <td>Pet Store</td>\n",
       "      <td>Pizza Place</td>\n",
       "      <td>Gastropub</td>\n",
       "      <td>Fish &amp; Chips Shop</td>\n",
       "      <td>Breakfast Spot</td>\n",
       "      <td>Park</td>\n",
       "      <td>Flea Market</td>\n",
       "      <td>2036.666667</td>\n",
       "      <td>37.142857</td>\n",
       "      <td>-37.967008</td>\n",
       "      <td>145.054695</td>\n",
       "    </tr>\n",
       "  </tbody>\n",
       "</table>\n",
       "</div>"
      ],
      "text/plain": [
       "    Cluster Labels Neighborhood 1st Most Common Venue 2nd Most Common Venue  \\\n",
       "4               16     Armadale                  Café     Convenience Store   \n",
       "20              16    Brunswick                  Café                   Bar   \n",
       "32              16    Caulfield                  Café         Grocery Store   \n",
       "35              16   Cheltenham                  Café                Bakery   \n",
       "\n",
       "   3rd Most Common Venue 4th Most Common Venue 5th Most Common Venue  \\\n",
       "4         Breakfast Spot         Grocery Store           Pizza Place   \n",
       "20         Grocery Store           Pizza Place   Lebanese Restaurant   \n",
       "32                   Gym    Falafel Restaurant           Pizza Place   \n",
       "35           Coffee Shop             Pet Store           Pizza Place   \n",
       "\n",
       "   6th Most Common Venue   7th Most Common Venue 8th Most Common Venue  \\\n",
       "4          Train Station                   Diner        Farmers Market   \n",
       "20           Supermarket  Thrift / Vintage Store          Dessert Shop   \n",
       "32     Convenience Store    Fast Food Restaurant   Filipino Restaurant   \n",
       "35             Gastropub       Fish & Chips Shop        Breakfast Spot   \n",
       "\n",
       "   9th Most Common Venue 10th Most Common Venue         Rent  Rent Percentile  \\\n",
       "4       Football Stadium             Food Truck  2080.000000        40.000000   \n",
       "20       Thai Restaurant              Gastropub  2036.666667        37.142857   \n",
       "32        Farmers Market      Fish & Chips Shop  2058.333333        38.571429   \n",
       "35                  Park            Flea Market  2036.666667        37.142857   \n",
       "\n",
       "     Latitude   Longitude  \n",
       "4  -37.856762  145.020691  \n",
       "20 -37.766472  144.961310  \n",
       "32 -37.882265  145.022463  \n",
       "35 -37.967008  145.054695  "
      ]
     },
     "execution_count": 49,
     "metadata": {},
     "output_type": "execute_result"
    }
   ],
   "source": [
    "recommended_suburbs = target_venues_sorted[target_venues_sorted['Cluster Labels']==source_cluster.tolist()[0]]\n",
    "recommended_suburbs.head()"
   ]
  },
  {
   "cell_type": "markdown",
   "metadata": {},
   "source": [
    "Display the source suburb for comparison."
   ]
  },
  {
   "cell_type": "code",
   "execution_count": 50,
   "metadata": {},
   "outputs": [
    {
     "data": {
      "text/html": [
       "<div>\n",
       "<style scoped>\n",
       "    .dataframe tbody tr th:only-of-type {\n",
       "        vertical-align: middle;\n",
       "    }\n",
       "\n",
       "    .dataframe tbody tr th {\n",
       "        vertical-align: top;\n",
       "    }\n",
       "\n",
       "    .dataframe thead th {\n",
       "        text-align: right;\n",
       "    }\n",
       "</style>\n",
       "<table border=\"1\" class=\"dataframe\">\n",
       "  <thead>\n",
       "    <tr style=\"text-align: right;\">\n",
       "      <th></th>\n",
       "      <th>Neighborhood</th>\n",
       "      <th>1st Most Common Venue</th>\n",
       "      <th>2nd Most Common Venue</th>\n",
       "      <th>3rd Most Common Venue</th>\n",
       "      <th>4th Most Common Venue</th>\n",
       "      <th>5th Most Common Venue</th>\n",
       "      <th>6th Most Common Venue</th>\n",
       "      <th>7th Most Common Venue</th>\n",
       "      <th>8th Most Common Venue</th>\n",
       "      <th>9th Most Common Venue</th>\n",
       "      <th>10th Most Common Venue</th>\n",
       "      <th>Rent Percentile</th>\n",
       "    </tr>\n",
       "  </thead>\n",
       "  <tbody>\n",
       "    <tr>\n",
       "      <th>0</th>\n",
       "      <td>PROVIDENCIA</td>\n",
       "      <td>Restaurant</td>\n",
       "      <td>Coffee Shop</td>\n",
       "      <td>Gym / Fitness Center</td>\n",
       "      <td>Nightclub</td>\n",
       "      <td>Yoga Studio</td>\n",
       "      <td>Café</td>\n",
       "      <td>Deli / Bodega</td>\n",
       "      <td>Mexican Restaurant</td>\n",
       "      <td>Ice Cream Shop</td>\n",
       "      <td>Spa</td>\n",
       "      <td>38.291139</td>\n",
       "    </tr>\n",
       "  </tbody>\n",
       "</table>\n",
       "</div>"
      ],
      "text/plain": [
       "  Neighborhood 1st Most Common Venue 2nd Most Common Venue  \\\n",
       "0  PROVIDENCIA            Restaurant           Coffee Shop   \n",
       "\n",
       "  3rd Most Common Venue 4th Most Common Venue 5th Most Common Venue  \\\n",
       "0  Gym / Fitness Center             Nightclub           Yoga Studio   \n",
       "\n",
       "  6th Most Common Venue 7th Most Common Venue 8th Most Common Venue  \\\n",
       "0                  Café         Deli / Bodega    Mexican Restaurant   \n",
       "\n",
       "  9th Most Common Venue 10th Most Common Venue  Rent Percentile  \n",
       "0        Ice Cream Shop                    Spa        38.291139  "
      ]
     },
     "execution_count": 50,
     "metadata": {},
     "output_type": "execute_result"
    }
   ],
   "source": [
    "source_venues_sorted"
   ]
  },
  {
   "cell_type": "markdown",
   "metadata": {},
   "source": [
    "The recommended cluster displays 4 suburbs: Armadale, Brunswick, Caulfield and Chelthenham. These are around the 37-40 percentile in rent and have Cafes as the most common venues. The other top venues are varied, but include Gyms, various types of restaurants, and grocery stores. Funny enough, I do live in a suburb next to one of these, which is a really interesting finding!"
   ]
  },
  {
   "cell_type": "markdown",
   "metadata": {},
   "source": [
    "## Display Results on Map"
   ]
  },
  {
   "cell_type": "code",
   "execution_count": 51,
   "metadata": {
    "collapsed": false,
    "jupyter": {
     "outputs_hidden": false
    }
   },
   "outputs": [
    {
     "data": {
      "text/html": [
       "<div style=\"width:100%;\"><div style=\"position:relative;width:100%;height:0;padding-bottom:60%;\"><iframe src=\"about:blank\" style=\"position:absolute;width:100%;height:100%;left:0;top:0;border:none !important;\" data-html=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 onload=\"this.contentDocument.open();this.contentDocument.write(atob(this.getAttribute('data-html')));this.contentDocument.close();\" allowfullscreen webkitallowfullscreen mozallowfullscreen></iframe></div></div>"
      ],
      "text/plain": [
       "<folium.folium.Map at 0x1f0ec7c41c8>"
      ]
     },
     "execution_count": 51,
     "metadata": {},
     "output_type": "execute_result"
    }
   ],
   "source": [
    "# create map\n",
    "map_recommended = folium.Map(location=target_loc, zoom_start=11)\n",
    "\n",
    "# add markers to map\n",
    "for lat, lng, nb, rt, fst, snd, trd in zip(recommended_suburbs['Latitude'], recommended_suburbs['Longitude'],\n",
    "                                      recommended_suburbs['Neighborhood'], recommended_suburbs['Rent'],\n",
    "                                      recommended_suburbs['1st Most Common Venue'], recommended_suburbs['2nd Most Common Venue'], recommended_suburbs['3rd Most Common Venue']):\n",
    "    label = '<strong>Suburb:</strong> {}.<br>  <strong>Median monthly rent:</strong> ${:10.2f} AUD.<br>  <strong>Top 3 venues within 500m:</strong><br> {}, {}, {}.'.format(nb, rt, fst, snd, trd)\n",
    "    label = folium.Popup(label, parse_html=False)\n",
    "    folium.CircleMarker(\n",
    "        [lat, lng],\n",
    "        radius=10,\n",
    "        popup=label,\n",
    "        color='blue',\n",
    "        fill=True,\n",
    "        fill_color='#3186cc',\n",
    "        fill_opacity=0.7,\n",
    "        parse_html=False).add_to(map_recommended)  \n",
    "    \n",
    "map_recommended"
   ]
  },
  {
   "cell_type": "code",
   "execution_count": null,
   "metadata": {},
   "outputs": [],
   "source": []
  }
 ],
 "metadata": {
  "kernelspec": {
   "display_name": "Python 3",
   "language": "python",
   "name": "python3"
  },
  "language_info": {
   "codemirror_mode": {
    "name": "ipython",
    "version": 3
   },
   "file_extension": ".py",
   "mimetype": "text/x-python",
   "name": "python",
   "nbconvert_exporter": "python",
   "pygments_lexer": "ipython3",
   "version": "3.7.7"
  }
 },
 "nbformat": 4,
 "nbformat_minor": 4
}
