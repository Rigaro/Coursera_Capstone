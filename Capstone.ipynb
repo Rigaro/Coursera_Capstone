{
 "cells": [
  {
   "cell_type": "markdown",
   "metadata": {},
   "source": [
    "# Coursera Applied Data Science Capstone\n",
    "This notebook contains my work for the applied data sience capstone course from IBM/Coursera."
   ]
  },
  {
   "cell_type": "markdown",
   "metadata": {},
   "source": [
    "# Introduction"
   ]
  },
  {
   "cell_type": "markdown",
   "metadata": {},
   "source": [
    "One of the most difficult things about moving to a new city on the other side of the world is deciding where to live. While you can look-up online the characteristics of the most famous suburbs many others that could be hidden gems are overlooked. So, what if you could use the place you are currently living in as a reference to look for recommendations of where to live on the other side of the world. This recommendation could include suburb characteristics such as the types of businesses and facilities around it and some statistical information on the rent prices. Thus, narrowing down your search for the perfect place to live on the other side of the world!\n",
    "This service is aimed at the people of our globalised world, who are looking to move to a new city within their country or internationally. For this project I'll use myself as an example, back in in the day I move from Guadalajara, MX to Melbourne, AU. So I'll be using the place I used to live in Mexico to rank suburbs in Melbourne that could be suited to me."
   ]
  },
  {
   "cell_type": "markdown",
   "metadata": {},
   "source": [
    "# Data"
   ]
  },
  {
   "cell_type": "markdown",
   "metadata": {},
   "source": [
    "This is the data I plan to use for my solution:\n",
    "## Venue data for a specific suburb in Guadalajara, MX.  \n",
    "The location (lat, lon) for the specific suburb will need to be determined for the Foursquare queries, this can be easily obtained through a Google search.  \n",
    "This location data will be used to obtain venue information using the Foursquare API. The focus will be in obtaining the top 5 venue categories by frequency in that area.  \n",
    "## Rent price data for all suburbs in Guadalajara, MX.  \n",
    "This is probably the most difficult to obtain as Mexico is not great with data gathering. The objective with this data is to obtain the percentile the specific suburb is in w.r.t. rent prices. This is in order to have a better price comparison between the two cities as they may be quite different in terms of cost of living. This is with the assumption that the person is (at least) looking at maintaining their current living conditions.  \n",
    "Thus, the median rental price for housing properties in all the suburbs of Guadalajara, MX are needed.\n",
    "## Venue data for all Melbourne, AU suburbs.\n",
    "Location data for all the Melbourne suburbs is needed for the Foursquare venue queries. This can be easily obtained from the Australian government's data access website: https://data.gov.au/dataset/ds-dga-af33dd8c-0534-4e18-9245-fc64440f742e/details  \n",
    "Similarly to the venue information discussed before, the top 5 venue categories will be required for all Melbourne suburbs. The venue data will be used in the comparison between the two cities (by suburb).\n",
    "## Rent price data for all suburbs in Melbourne, AU.  \n",
    "Median rental price data for all the Melbourne suburbs can be obtained from the Victorian government's website: https://www.dhhs.vic.gov.au/publications/rental-report.  \n",
    "This data will be used to determine each suburb's rent percentile, which will then be used as an additional feature for suburb comparison."
   ]
  },
  {
   "cell_type": "markdown",
   "metadata": {},
   "source": [
    "#### Imports\n",
    "All the stuff needed for the project."
   ]
  },
  {
   "cell_type": "code",
   "execution_count": 1,
   "metadata": {},
   "outputs": [],
   "source": [
    "import pandas as pd\n",
    "import numpy as np"
   ]
  }
 ],
 "metadata": {
  "kernelspec": {
   "display_name": "Python 3",
   "language": "python",
   "name": "python3"
  },
  "language_info": {
   "codemirror_mode": {
    "name": "ipython",
    "version": 3
   },
   "file_extension": ".py",
   "mimetype": "text/x-python",
   "name": "python",
   "nbconvert_exporter": "python",
   "pygments_lexer": "ipython3",
   "version": "3.7.7"
  }
 },
 "nbformat": 4,
 "nbformat_minor": 4
}
